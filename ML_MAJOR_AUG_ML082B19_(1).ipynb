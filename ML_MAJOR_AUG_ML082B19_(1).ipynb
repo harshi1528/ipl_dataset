{
  "nbformat": 4,
  "nbformat_minor": 0,
  "metadata": {
    "colab": {
      "provenance": []
    },
    "kernelspec": {
      "name": "python3",
      "display_name": "Python 3"
    }
  },
  "cells": [
    {
      "cell_type": "code",
      "metadata": {
        "id": "K_c6sXiyoB9n"
      },
      "source": [
        "import pandas as pd\n",
        "from google.colab import files"
      ],
      "execution_count": null,
      "outputs": []
    },
    {
      "cell_type": "code",
      "metadata": {
        "id": "8YCs_hMipjYg",
        "outputId": "daba0414-ebc3-4751-bb7f-201fcaabf645",
        "colab": {
          "resources": {
            "http://localhost:8080/nbextensions/google.colab/files.js": {
              "data": "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",
              "ok": true,
              "headers": [
                [
                  "content-type",
                  "application/javascript"
                ]
              ],
              "status": 200,
              "status_text": ""
            }
          },
          "base_uri": "https://localhost:8080/",
          "height": 72
        }
      },
      "source": [
        "uploaded = files.upload()"
      ],
      "execution_count": null,
      "outputs": [
        {
          "output_type": "display_data",
          "data": {
            "text/html": [
              "\n",
              "     <input type=\"file\" id=\"files-2db105b8-e5a2-4329-ad61-a9ce700cea13\" name=\"files[]\" multiple disabled\n",
              "        style=\"border:none\" />\n",
              "     <output id=\"result-2db105b8-e5a2-4329-ad61-a9ce700cea13\">\n",
              "      Upload widget is only available when the cell has been executed in the\n",
              "      current browser session. Please rerun this cell to enable.\n",
              "      </output>\n",
              "      <script src=\"/nbextensions/google.colab/files.js\"></script> "
            ],
            "text/plain": [
              "<IPython.core.display.HTML object>"
            ]
          },
          "metadata": {
            "tags": []
          }
        },
        {
          "output_type": "stream",
          "text": [
            "Saving ipl2017.csv to ipl2017.csv\n"
          ],
          "name": "stdout"
        }
      ]
    },
    {
      "cell_type": "code",
      "metadata": {
        "id": "kevfnsOwq9SG"
      },
      "source": [
        "import pandas as pd\n",
        "df=pd.read_csv(\"ipl2017.csv\")"
      ],
      "execution_count": null,
      "outputs": []
    },
    {
      "cell_type": "code",
      "metadata": {
        "id": "iHCQ6InnrB51",
        "outputId": "a2ceb8c6-d4a8-4b24-8123-7e2866350b32",
        "colab": {
          "base_uri": "https://localhost:8080/",
          "height": 306
        }
      },
      "source": [
        "df.head()"
      ],
      "execution_count": null,
      "outputs": [
        {
          "output_type": "execute_result",
          "data": {
            "text/html": [
              "<div>\n",
              "<style scoped>\n",
              "    .dataframe tbody tr th:only-of-type {\n",
              "        vertical-align: middle;\n",
              "    }\n",
              "\n",
              "    .dataframe tbody tr th {\n",
              "        vertical-align: top;\n",
              "    }\n",
              "\n",
              "    .dataframe thead th {\n",
              "        text-align: right;\n",
              "    }\n",
              "</style>\n",
              "<table border=\"1\" class=\"dataframe\">\n",
              "  <thead>\n",
              "    <tr style=\"text-align: right;\">\n",
              "      <th></th>\n",
              "      <th>mid</th>\n",
              "      <th>date</th>\n",
              "      <th>venue</th>\n",
              "      <th>bat_team</th>\n",
              "      <th>bowl_team</th>\n",
              "      <th>batsman</th>\n",
              "      <th>bowler</th>\n",
              "      <th>runs</th>\n",
              "      <th>wickets</th>\n",
              "      <th>overs</th>\n",
              "      <th>runs_last_5</th>\n",
              "      <th>wickets_last_5</th>\n",
              "      <th>striker</th>\n",
              "      <th>non-striker</th>\n",
              "      <th>total</th>\n",
              "    </tr>\n",
              "  </thead>\n",
              "  <tbody>\n",
              "    <tr>\n",
              "      <th>0</th>\n",
              "      <td>1</td>\n",
              "      <td>2008-04-18</td>\n",
              "      <td>M Chinnaswamy Stadium</td>\n",
              "      <td>Kolkata Knight Riders</td>\n",
              "      <td>Royal Challengers Bangalore</td>\n",
              "      <td>SC Ganguly</td>\n",
              "      <td>P Kumar</td>\n",
              "      <td>1</td>\n",
              "      <td>0</td>\n",
              "      <td>0.1</td>\n",
              "      <td>1</td>\n",
              "      <td>0</td>\n",
              "      <td>0</td>\n",
              "      <td>0</td>\n",
              "      <td>222</td>\n",
              "    </tr>\n",
              "    <tr>\n",
              "      <th>1</th>\n",
              "      <td>1</td>\n",
              "      <td>2008-04-18</td>\n",
              "      <td>M Chinnaswamy Stadium</td>\n",
              "      <td>Kolkata Knight Riders</td>\n",
              "      <td>Royal Challengers Bangalore</td>\n",
              "      <td>BB McCullum</td>\n",
              "      <td>P Kumar</td>\n",
              "      <td>1</td>\n",
              "      <td>0</td>\n",
              "      <td>0.2</td>\n",
              "      <td>1</td>\n",
              "      <td>0</td>\n",
              "      <td>0</td>\n",
              "      <td>0</td>\n",
              "      <td>222</td>\n",
              "    </tr>\n",
              "    <tr>\n",
              "      <th>2</th>\n",
              "      <td>1</td>\n",
              "      <td>2008-04-18</td>\n",
              "      <td>M Chinnaswamy Stadium</td>\n",
              "      <td>Kolkata Knight Riders</td>\n",
              "      <td>Royal Challengers Bangalore</td>\n",
              "      <td>BB McCullum</td>\n",
              "      <td>P Kumar</td>\n",
              "      <td>2</td>\n",
              "      <td>0</td>\n",
              "      <td>0.2</td>\n",
              "      <td>2</td>\n",
              "      <td>0</td>\n",
              "      <td>0</td>\n",
              "      <td>0</td>\n",
              "      <td>222</td>\n",
              "    </tr>\n",
              "    <tr>\n",
              "      <th>3</th>\n",
              "      <td>1</td>\n",
              "      <td>2008-04-18</td>\n",
              "      <td>M Chinnaswamy Stadium</td>\n",
              "      <td>Kolkata Knight Riders</td>\n",
              "      <td>Royal Challengers Bangalore</td>\n",
              "      <td>BB McCullum</td>\n",
              "      <td>P Kumar</td>\n",
              "      <td>2</td>\n",
              "      <td>0</td>\n",
              "      <td>0.3</td>\n",
              "      <td>2</td>\n",
              "      <td>0</td>\n",
              "      <td>0</td>\n",
              "      <td>0</td>\n",
              "      <td>222</td>\n",
              "    </tr>\n",
              "    <tr>\n",
              "      <th>4</th>\n",
              "      <td>1</td>\n",
              "      <td>2008-04-18</td>\n",
              "      <td>M Chinnaswamy Stadium</td>\n",
              "      <td>Kolkata Knight Riders</td>\n",
              "      <td>Royal Challengers Bangalore</td>\n",
              "      <td>BB McCullum</td>\n",
              "      <td>P Kumar</td>\n",
              "      <td>2</td>\n",
              "      <td>0</td>\n",
              "      <td>0.4</td>\n",
              "      <td>2</td>\n",
              "      <td>0</td>\n",
              "      <td>0</td>\n",
              "      <td>0</td>\n",
              "      <td>222</td>\n",
              "    </tr>\n",
              "  </tbody>\n",
              "</table>\n",
              "</div>"
            ],
            "text/plain": [
              "   mid        date                  venue  ... striker non-striker total\n",
              "0    1  2008-04-18  M Chinnaswamy Stadium  ...       0           0   222\n",
              "1    1  2008-04-18  M Chinnaswamy Stadium  ...       0           0   222\n",
              "2    1  2008-04-18  M Chinnaswamy Stadium  ...       0           0   222\n",
              "3    1  2008-04-18  M Chinnaswamy Stadium  ...       0           0   222\n",
              "4    1  2008-04-18  M Chinnaswamy Stadium  ...       0           0   222\n",
              "\n",
              "[5 rows x 15 columns]"
            ]
          },
          "metadata": {
            "tags": []
          },
          "execution_count": 8
        }
      ]
    },
    {
      "cell_type": "code",
      "metadata": {
        "id": "TxXQ3y8HrFFZ",
        "outputId": "11d16e95-8e7d-4ac2-baa6-4ef4ed24ef46",
        "colab": {
          "base_uri": "https://localhost:8080/",
          "height": 255
        }
      },
      "source": [
        "x.info"
      ],
      "execution_count": null,
      "outputs": [
        {
          "output_type": "execute_result",
          "data": {
            "text/plain": [
              "<bound method DataFrame.info of        runs  wickets  ...  bowler_Yuvraj Singh  bowler_Z Khan\n",
              "0         1        0  ...                    0              0\n",
              "1         1        0  ...                    0              0\n",
              "2         2        0  ...                    0              0\n",
              "3         2        0  ...                    0              0\n",
              "4         2        0  ...                    0              0\n",
              "...     ...      ...  ...                  ...            ...\n",
              "76009   121        7  ...                    0              0\n",
              "76010   127        7  ...                    0              0\n",
              "76011   128        7  ...                    0              0\n",
              "76012   129        7  ...                    0              0\n",
              "76013   129        8  ...                    0              0\n",
              "\n",
              "[76014 rows x 775 columns]>"
            ]
          },
          "metadata": {
            "tags": []
          },
          "execution_count": 49
        }
      ]
    },
    {
      "cell_type": "code",
      "metadata": {
        "id": "AxmavAiXrJlM",
        "outputId": "738fbc4e-da95-4b49-bf85-01230509537c",
        "colab": {
          "base_uri": "https://localhost:8080/",
          "height": 391
        }
      },
      "source": [
        "df.info()\n"
      ],
      "execution_count": null,
      "outputs": [
        {
          "output_type": "stream",
          "text": [
            "<class 'pandas.core.frame.DataFrame'>\n",
            "RangeIndex: 76014 entries, 0 to 76013\n",
            "Data columns (total 15 columns):\n",
            " #   Column          Non-Null Count  Dtype  \n",
            "---  ------          --------------  -----  \n",
            " 0   mid             76014 non-null  int64  \n",
            " 1   date            76014 non-null  object \n",
            " 2   venue           76014 non-null  object \n",
            " 3   bat_team        76014 non-null  object \n",
            " 4   bowl_team       76014 non-null  object \n",
            " 5   batsman         76014 non-null  object \n",
            " 6   bowler          76014 non-null  object \n",
            " 7   runs            76014 non-null  int64  \n",
            " 8   wickets         76014 non-null  int64  \n",
            " 9   overs           76014 non-null  float64\n",
            " 10  runs_last_5     76014 non-null  int64  \n",
            " 11  wickets_last_5  76014 non-null  int64  \n",
            " 12  striker         76014 non-null  int64  \n",
            " 13  non-striker     76014 non-null  int64  \n",
            " 14  total           76014 non-null  int64  \n",
            "dtypes: float64(1), int64(8), object(6)\n",
            "memory usage: 8.7+ MB\n"
          ],
          "name": "stdout"
        }
      ]
    },
    {
      "cell_type": "code",
      "metadata": {
        "id": "a6gdrBz3rX4r",
        "outputId": "9f5a9a07-cb2a-4683-c605-64bef4283f9a",
        "colab": {
          "base_uri": "https://localhost:8080/",
          "height": 289
        }
      },
      "source": [
        "df.isnull().sum()"
      ],
      "execution_count": null,
      "outputs": [
        {
          "output_type": "execute_result",
          "data": {
            "text/plain": [
              "mid               0\n",
              "date              0\n",
              "venue             0\n",
              "bat_team          0\n",
              "bowl_team         0\n",
              "batsman           0\n",
              "bowler            0\n",
              "runs              0\n",
              "wickets           0\n",
              "overs             0\n",
              "runs_last_5       0\n",
              "wickets_last_5    0\n",
              "striker           0\n",
              "non-striker       0\n",
              "total             0\n",
              "dtype: int64"
            ]
          },
          "metadata": {
            "tags": []
          },
          "execution_count": 11
        }
      ]
    },
    {
      "cell_type": "code",
      "metadata": {
        "id": "IE7lcfPjrcDS",
        "outputId": "0ddb899a-4ca7-414f-f22e-094682cf3314",
        "colab": {
          "base_uri": "https://localhost:8080/",
          "height": 289
        }
      },
      "source": [
        "df.dropna(inplace=True)\n",
        "df.isnull().sum()"
      ],
      "execution_count": null,
      "outputs": [
        {
          "output_type": "execute_result",
          "data": {
            "text/plain": [
              "mid               0\n",
              "date              0\n",
              "venue             0\n",
              "bat_team          0\n",
              "bowl_team         0\n",
              "batsman           0\n",
              "bowler            0\n",
              "runs              0\n",
              "wickets           0\n",
              "overs             0\n",
              "runs_last_5       0\n",
              "wickets_last_5    0\n",
              "striker           0\n",
              "non-striker       0\n",
              "total             0\n",
              "dtype: int64"
            ]
          },
          "metadata": {
            "tags": []
          },
          "execution_count": 12
        }
      ]
    },
    {
      "cell_type": "code",
      "metadata": {
        "id": "lg3Qm7V2rhDp"
      },
      "source": [
        "y=df[\"total\"]"
      ],
      "execution_count": null,
      "outputs": []
    },
    {
      "cell_type": "code",
      "metadata": {
        "id": "hqBCHzQzrk0H"
      },
      "source": [
        "df=df.drop([\"mid\",\"date\",\"venue\"],axis=1)"
      ],
      "execution_count": null,
      "outputs": []
    },
    {
      "cell_type": "code",
      "metadata": {
        "id": "sgVTJi8urolc",
        "outputId": "8a5d774d-0c3a-4529-bbec-49a213f060d3",
        "colab": {
          "base_uri": "https://localhost:8080/",
          "height": 204
        }
      },
      "source": [
        "df.head()"
      ],
      "execution_count": null,
      "outputs": [
        {
          "output_type": "execute_result",
          "data": {
            "text/html": [
              "<div>\n",
              "<style scoped>\n",
              "    .dataframe tbody tr th:only-of-type {\n",
              "        vertical-align: middle;\n",
              "    }\n",
              "\n",
              "    .dataframe tbody tr th {\n",
              "        vertical-align: top;\n",
              "    }\n",
              "\n",
              "    .dataframe thead th {\n",
              "        text-align: right;\n",
              "    }\n",
              "</style>\n",
              "<table border=\"1\" class=\"dataframe\">\n",
              "  <thead>\n",
              "    <tr style=\"text-align: right;\">\n",
              "      <th></th>\n",
              "      <th>bat_team</th>\n",
              "      <th>bowl_team</th>\n",
              "      <th>batsman</th>\n",
              "      <th>bowler</th>\n",
              "      <th>runs</th>\n",
              "      <th>wickets</th>\n",
              "      <th>overs</th>\n",
              "      <th>runs_last_5</th>\n",
              "      <th>wickets_last_5</th>\n",
              "      <th>striker</th>\n",
              "      <th>non-striker</th>\n",
              "      <th>total</th>\n",
              "    </tr>\n",
              "  </thead>\n",
              "  <tbody>\n",
              "    <tr>\n",
              "      <th>0</th>\n",
              "      <td>Kolkata Knight Riders</td>\n",
              "      <td>Royal Challengers Bangalore</td>\n",
              "      <td>SC Ganguly</td>\n",
              "      <td>P Kumar</td>\n",
              "      <td>1</td>\n",
              "      <td>0</td>\n",
              "      <td>0.1</td>\n",
              "      <td>1</td>\n",
              "      <td>0</td>\n",
              "      <td>0</td>\n",
              "      <td>0</td>\n",
              "      <td>222</td>\n",
              "    </tr>\n",
              "    <tr>\n",
              "      <th>1</th>\n",
              "      <td>Kolkata Knight Riders</td>\n",
              "      <td>Royal Challengers Bangalore</td>\n",
              "      <td>BB McCullum</td>\n",
              "      <td>P Kumar</td>\n",
              "      <td>1</td>\n",
              "      <td>0</td>\n",
              "      <td>0.2</td>\n",
              "      <td>1</td>\n",
              "      <td>0</td>\n",
              "      <td>0</td>\n",
              "      <td>0</td>\n",
              "      <td>222</td>\n",
              "    </tr>\n",
              "    <tr>\n",
              "      <th>2</th>\n",
              "      <td>Kolkata Knight Riders</td>\n",
              "      <td>Royal Challengers Bangalore</td>\n",
              "      <td>BB McCullum</td>\n",
              "      <td>P Kumar</td>\n",
              "      <td>2</td>\n",
              "      <td>0</td>\n",
              "      <td>0.2</td>\n",
              "      <td>2</td>\n",
              "      <td>0</td>\n",
              "      <td>0</td>\n",
              "      <td>0</td>\n",
              "      <td>222</td>\n",
              "    </tr>\n",
              "    <tr>\n",
              "      <th>3</th>\n",
              "      <td>Kolkata Knight Riders</td>\n",
              "      <td>Royal Challengers Bangalore</td>\n",
              "      <td>BB McCullum</td>\n",
              "      <td>P Kumar</td>\n",
              "      <td>2</td>\n",
              "      <td>0</td>\n",
              "      <td>0.3</td>\n",
              "      <td>2</td>\n",
              "      <td>0</td>\n",
              "      <td>0</td>\n",
              "      <td>0</td>\n",
              "      <td>222</td>\n",
              "    </tr>\n",
              "    <tr>\n",
              "      <th>4</th>\n",
              "      <td>Kolkata Knight Riders</td>\n",
              "      <td>Royal Challengers Bangalore</td>\n",
              "      <td>BB McCullum</td>\n",
              "      <td>P Kumar</td>\n",
              "      <td>2</td>\n",
              "      <td>0</td>\n",
              "      <td>0.4</td>\n",
              "      <td>2</td>\n",
              "      <td>0</td>\n",
              "      <td>0</td>\n",
              "      <td>0</td>\n",
              "      <td>222</td>\n",
              "    </tr>\n",
              "  </tbody>\n",
              "</table>\n",
              "</div>"
            ],
            "text/plain": [
              "                bat_team                    bowl_team  ... non-striker total\n",
              "0  Kolkata Knight Riders  Royal Challengers Bangalore  ...           0   222\n",
              "1  Kolkata Knight Riders  Royal Challengers Bangalore  ...           0   222\n",
              "2  Kolkata Knight Riders  Royal Challengers Bangalore  ...           0   222\n",
              "3  Kolkata Knight Riders  Royal Challengers Bangalore  ...           0   222\n",
              "4  Kolkata Knight Riders  Royal Challengers Bangalore  ...           0   222\n",
              "\n",
              "[5 rows x 12 columns]"
            ]
          },
          "metadata": {
            "tags": []
          },
          "execution_count": 15
        }
      ]
    },
    {
      "cell_type": "code",
      "metadata": {
        "id": "9nsNTeWvrsA2"
      },
      "source": [
        "x=df.drop(\"total\",axis=1)"
      ],
      "execution_count": null,
      "outputs": []
    },
    {
      "cell_type": "code",
      "metadata": {
        "id": "1pw7PkzBrvOL",
        "outputId": "b537fecd-a6a3-4eb6-9f6f-85c240f55ac5",
        "colab": {
          "base_uri": "https://localhost:8080/",
          "height": 340
        }
      },
      "source": [
        "df.info()"
      ],
      "execution_count": null,
      "outputs": [
        {
          "output_type": "stream",
          "text": [
            "<class 'pandas.core.frame.DataFrame'>\n",
            "Int64Index: 76014 entries, 0 to 76013\n",
            "Data columns (total 12 columns):\n",
            " #   Column          Non-Null Count  Dtype  \n",
            "---  ------          --------------  -----  \n",
            " 0   bat_team        76014 non-null  object \n",
            " 1   bowl_team       76014 non-null  object \n",
            " 2   batsman         76014 non-null  object \n",
            " 3   bowler          76014 non-null  object \n",
            " 4   runs            76014 non-null  int64  \n",
            " 5   wickets         76014 non-null  int64  \n",
            " 6   overs           76014 non-null  float64\n",
            " 7   runs_last_5     76014 non-null  int64  \n",
            " 8   wickets_last_5  76014 non-null  int64  \n",
            " 9   striker         76014 non-null  int64  \n",
            " 10  non-striker     76014 non-null  int64  \n",
            " 11  total           76014 non-null  int64  \n",
            "dtypes: float64(1), int64(7), object(4)\n",
            "memory usage: 7.5+ MB\n"
          ],
          "name": "stdout"
        }
      ]
    },
    {
      "cell_type": "code",
      "metadata": {
        "id": "jxW7c5FJryF0",
        "outputId": "675a20bb-c600-4b9b-922b-4defef88d894",
        "colab": {
          "base_uri": "https://localhost:8080/",
          "height": 221
        }
      },
      "source": [
        "x.dtypes"
      ],
      "execution_count": null,
      "outputs": [
        {
          "output_type": "execute_result",
          "data": {
            "text/plain": [
              "bat_team           object\n",
              "bowl_team          object\n",
              "batsman            object\n",
              "bowler             object\n",
              "runs                int64\n",
              "wickets             int64\n",
              "overs             float64\n",
              "runs_last_5         int64\n",
              "wickets_last_5      int64\n",
              "striker             int64\n",
              "non-striker         int64\n",
              "dtype: object"
            ]
          },
          "metadata": {
            "tags": []
          },
          "execution_count": 18
        }
      ]
    },
    {
      "cell_type": "code",
      "metadata": {
        "id": "Tb9gTETAr1JO"
      },
      "source": [
        "x=pd.get_dummies(x,columns=[\"bat_team\",\"bowl_team\",\"batsman\",\"bowler\"])"
      ],
      "execution_count": null,
      "outputs": []
    },
    {
      "cell_type": "code",
      "metadata": {
        "id": "FAXHev5Kr4Fp",
        "outputId": "b7873d76-f7f7-4e39-9fc2-76b4cc4bf349",
        "colab": {
          "base_uri": "https://localhost:8080/",
          "height": 221
        }
      },
      "source": [
        "x.dtypes"
      ],
      "execution_count": null,
      "outputs": [
        {
          "output_type": "execute_result",
          "data": {
            "text/plain": [
              "runs                     int64\n",
              "wickets                  int64\n",
              "overs                  float64\n",
              "runs_last_5              int64\n",
              "wickets_last_5           int64\n",
              "                        ...   \n",
              "bowler_YA Abdulla        uint8\n",
              "bowler_YK Pathan         uint8\n",
              "bowler_YS Chahal         uint8\n",
              "bowler_Yuvraj Singh      uint8\n",
              "bowler_Z Khan            uint8\n",
              "Length: 775, dtype: object"
            ]
          },
          "metadata": {
            "tags": []
          },
          "execution_count": 20
        }
      ]
    },
    {
      "cell_type": "code",
      "metadata": {
        "id": "wcTBNf5Hr69A",
        "outputId": "ace35094-eda7-4f29-accf-912e87baa926",
        "colab": {
          "base_uri": "https://localhost:8080/",
          "height": 34
        }
      },
      "source": [
        "type(x)\n"
      ],
      "execution_count": null,
      "outputs": [
        {
          "output_type": "execute_result",
          "data": {
            "text/plain": [
              "pandas.core.frame.DataFrame"
            ]
          },
          "metadata": {
            "tags": []
          },
          "execution_count": 21
        }
      ]
    },
    {
      "cell_type": "code",
      "metadata": {
        "id": "tr5UXpyVr-A1",
        "outputId": "df66cac4-3710-4935-ab6a-f299fa47f649",
        "colab": {
          "base_uri": "https://localhost:8080/",
          "height": 34
        }
      },
      "source": [
        "x.shape"
      ],
      "execution_count": null,
      "outputs": [
        {
          "output_type": "execute_result",
          "data": {
            "text/plain": [
              "(76014, 775)"
            ]
          },
          "metadata": {
            "tags": []
          },
          "execution_count": 22
        }
      ]
    },
    {
      "cell_type": "code",
      "metadata": {
        "id": "QY4-bOEcsA0u"
      },
      "source": [
        "numeric=df.select_dtypes(include=[\"int64\",\"float64\"])"
      ],
      "execution_count": null,
      "outputs": []
    },
    {
      "cell_type": "code",
      "metadata": {
        "id": "JhE7Ofh8sEoO",
        "outputId": "c9610733-fa0d-4010-8ba3-75b0d4010035",
        "colab": {
          "base_uri": "https://localhost:8080/",
          "height": 607
        }
      },
      "source": [
        "import matplotlib.pyplot as plt\n",
        "numeric.hist(figsize=(20,10))\n",
        "plt.show()"
      ],
      "execution_count": null,
      "outputs": [
        {
          "output_type": "display_data",
          "data": {
            "image/png": "[encoded data removed]",
            "text/plain": [
              "<Figure size 1440x720 with 9 Axes>"
            ]
          },
          "metadata": {
            "tags": [],
            "needs_background": "light"
          }
        }
      ]
    },
    {
      "cell_type": "code",
      "metadata": {
        "id": "_uACKzeysI_f",
        "outputId": "fc7c4242-e78b-44d8-d672-e48f7615de71",
        "colab": {
          "base_uri": "https://localhost:8080/",
          "height": 297
        }
      },
      "source": [
        "numeric.describe()"
      ],
      "execution_count": null,
      "outputs": [
        {
          "output_type": "execute_result",
          "data": {
            "text/html": [
              "<div>\n",
              "<style scoped>\n",
              "    .dataframe tbody tr th:only-of-type {\n",
              "        vertical-align: middle;\n",
              "    }\n",
              "\n",
              "    .dataframe tbody tr th {\n",
              "        vertical-align: top;\n",
              "    }\n",
              "\n",
              "    .dataframe thead th {\n",
              "        text-align: right;\n",
              "    }\n",
              "</style>\n",
              "<table border=\"1\" class=\"dataframe\">\n",
              "  <thead>\n",
              "    <tr style=\"text-align: right;\">\n",
              "      <th></th>\n",
              "      <th>runs</th>\n",
              "      <th>wickets</th>\n",
              "      <th>overs</th>\n",
              "      <th>runs_last_5</th>\n",
              "      <th>wickets_last_5</th>\n",
              "      <th>striker</th>\n",
              "      <th>non-striker</th>\n",
              "      <th>total</th>\n",
              "    </tr>\n",
              "  </thead>\n",
              "  <tbody>\n",
              "    <tr>\n",
              "      <th>count</th>\n",
              "      <td>76014.000000</td>\n",
              "      <td>76014.000000</td>\n",
              "      <td>76014.000000</td>\n",
              "      <td>76014.000000</td>\n",
              "      <td>76014.000000</td>\n",
              "      <td>76014.000000</td>\n",
              "      <td>76014.000000</td>\n",
              "      <td>76014.000000</td>\n",
              "    </tr>\n",
              "    <tr>\n",
              "      <th>mean</th>\n",
              "      <td>74.889349</td>\n",
              "      <td>2.415844</td>\n",
              "      <td>9.783068</td>\n",
              "      <td>33.216434</td>\n",
              "      <td>1.120307</td>\n",
              "      <td>24.962283</td>\n",
              "      <td>8.869287</td>\n",
              "      <td>160.901452</td>\n",
              "    </tr>\n",
              "    <tr>\n",
              "      <th>std</th>\n",
              "      <td>48.823327</td>\n",
              "      <td>2.015207</td>\n",
              "      <td>5.772587</td>\n",
              "      <td>14.914174</td>\n",
              "      <td>1.053343</td>\n",
              "      <td>20.079752</td>\n",
              "      <td>10.795742</td>\n",
              "      <td>29.246231</td>\n",
              "    </tr>\n",
              "    <tr>\n",
              "      <th>min</th>\n",
              "      <td>0.000000</td>\n",
              "      <td>0.000000</td>\n",
              "      <td>0.000000</td>\n",
              "      <td>0.000000</td>\n",
              "      <td>0.000000</td>\n",
              "      <td>0.000000</td>\n",
              "      <td>0.000000</td>\n",
              "      <td>67.000000</td>\n",
              "    </tr>\n",
              "    <tr>\n",
              "      <th>25%</th>\n",
              "      <td>34.000000</td>\n",
              "      <td>1.000000</td>\n",
              "      <td>4.600000</td>\n",
              "      <td>24.000000</td>\n",
              "      <td>0.000000</td>\n",
              "      <td>10.000000</td>\n",
              "      <td>1.000000</td>\n",
              "      <td>142.000000</td>\n",
              "    </tr>\n",
              "    <tr>\n",
              "      <th>50%</th>\n",
              "      <td>70.000000</td>\n",
              "      <td>2.000000</td>\n",
              "      <td>9.600000</td>\n",
              "      <td>34.000000</td>\n",
              "      <td>1.000000</td>\n",
              "      <td>20.000000</td>\n",
              "      <td>5.000000</td>\n",
              "      <td>162.000000</td>\n",
              "    </tr>\n",
              "    <tr>\n",
              "      <th>75%</th>\n",
              "      <td>111.000000</td>\n",
              "      <td>4.000000</td>\n",
              "      <td>14.600000</td>\n",
              "      <td>43.000000</td>\n",
              "      <td>2.000000</td>\n",
              "      <td>35.000000</td>\n",
              "      <td>13.000000</td>\n",
              "      <td>181.000000</td>\n",
              "    </tr>\n",
              "    <tr>\n",
              "      <th>max</th>\n",
              "      <td>263.000000</td>\n",
              "      <td>10.000000</td>\n",
              "      <td>19.600000</td>\n",
              "      <td>113.000000</td>\n",
              "      <td>7.000000</td>\n",
              "      <td>175.000000</td>\n",
              "      <td>109.000000</td>\n",
              "      <td>263.000000</td>\n",
              "    </tr>\n",
              "  </tbody>\n",
              "</table>\n",
              "</div>"
            ],
            "text/plain": [
              "               runs       wickets  ...   non-striker         total\n",
              "count  76014.000000  76014.000000  ...  76014.000000  76014.000000\n",
              "mean      74.889349      2.415844  ...      8.869287    160.901452\n",
              "std       48.823327      2.015207  ...     10.795742     29.246231\n",
              "min        0.000000      0.000000  ...      0.000000     67.000000\n",
              "25%       34.000000      1.000000  ...      1.000000    142.000000\n",
              "50%       70.000000      2.000000  ...      5.000000    162.000000\n",
              "75%      111.000000      4.000000  ...     13.000000    181.000000\n",
              "max      263.000000     10.000000  ...    109.000000    263.000000\n",
              "\n",
              "[8 rows x 8 columns]"
            ]
          },
          "metadata": {
            "tags": []
          },
          "execution_count": 25
        }
      ]
    },
    {
      "cell_type": "code",
      "metadata": {
        "id": "HKArL1yLsNZl",
        "outputId": "bea45603-0db7-4045-998f-29b8212203cf",
        "colab": {
          "base_uri": "https://localhost:8080/",
          "height": 749
        }
      },
      "source": [
        "from sklearn.preprocessing import PowerTransformer\n",
        "pow_trans=PowerTransformer()\n",
        "pow_trans.fit(numeric[[\"striker\"]])\n",
        "pow_trans.fit(numeric[[\"non-striker\"]])\n",
        "numeric[\"striker_LG\"]=pow_trans.transform(numeric[[\"striker\"]])\n",
        "numeric[[\"striker\",\"striker_LG\"]].hist()\n",
        "numeric[\"non-striker_LG\"]=pow_trans.transform(numeric[[\"non-striker\"]])\n",
        "numeric[[\"non-striker\",\"non-striker_LG\"]].hist()\n",
        "plt.show()"
      ],
      "execution_count": null,
      "outputs": [
        {
          "output_type": "stream",
          "text": [
            "/usr/local/lib/python3.6/dist-packages/ipykernel_launcher.py:5: SettingWithCopyWarning: \n",
            "A value is trying to be set on a copy of a slice from a DataFrame.\n",
            "Try using .loc[row_indexer,col_indexer] = value instead\n",
            "\n",
            "See the caveats in the documentation: https://pandas.pydata.org/pandas-docs/stable/user_guide/indexing.html#returning-a-view-versus-a-copy\n",
            "  \"\"\"\n",
            "/usr/local/lib/python3.6/dist-packages/ipykernel_launcher.py:7: SettingWithCopyWarning: \n",
            "A value is trying to be set on a copy of a slice from a DataFrame.\n",
            "Try using .loc[row_indexer,col_indexer] = value instead\n",
            "\n",
            "See the caveats in the documentation: https://pandas.pydata.org/pandas-docs/stable/user_guide/indexing.html#returning-a-view-versus-a-copy\n",
            "  import sys\n"
          ],
          "name": "stderr"
        },
        {
          "output_type": "display_data",
          "data": {
            "image/png": "[encoded data removed]",
            "text/plain": [
              "<Figure size 432x288 with 2 Axes>"
            ]
          },
          "metadata": {
            "tags": [],
            "needs_background": "light"
          }
        },
        {
          "output_type": "display_data",
          "data": {
            "image/png": "[encoded data removed]",
            "text/plain": [
              "<Figure size 432x288 with 2 Axes>"
            ]
          },
          "metadata": {
            "tags": [],
            "needs_background": "light"
          }
        }
      ]
    },
    {
      "cell_type": "code",
      "metadata": {
        "id": "C8vQYozbsXQz",
        "outputId": "d7ba9af9-2654-44c1-9e6b-37ede4a89abb",
        "colab": {
          "base_uri": "https://localhost:8080/",
          "height": 265
        }
      },
      "source": [
        "numeric[['non-striker']].boxplot()\n",
        "plt.show()"
      ],
      "execution_count": null,
      "outputs": [
        {
          "output_type": "display_data",
          "data": {
            "image/png": "[encoded data removed]",
            "text/plain": [
              "<Figure size 432x288 with 1 Axes>"
            ]
          },
          "metadata": {
            "tags": [],
            "needs_background": "light"
          }
        }
      ]
    },
    {
      "cell_type": "code",
      "metadata": {
        "id": "euDmjF-csb4B",
        "outputId": "44c8e02c-bf7d-48b9-d39d-c6aab143b056",
        "colab": {
          "base_uri": "https://localhost:8080/",
          "height": 265
        }
      },
      "source": [
        "std=numeric['non-striker'].std()\n",
        "mean=numeric['non-striker'].mean()\n",
        "cut_off=std*3\n",
        "upper,lower=mean+cut_off,mean-cut_off\n",
        "trimmed_df=numeric[(numeric['non-striker']<upper) \\\n",
        "                   & (numeric['non-striker']>lower)]\n",
        "trimmed_df[['non-striker']].boxplot()\n",
        "plt.show()"
      ],
      "execution_count": null,
      "outputs": [
        {
          "output_type": "display_data",
          "data": {
            "image/png": "[encoded data removed]",
            "text/plain": [
              "<Figure size 432x288 with 1 Axes>"
            ]
          },
          "metadata": {
            "tags": [],
            "needs_background": "light"
          }
        }
      ]
    },
    {
      "cell_type": "code",
      "metadata": {
        "id": "HLx4_5HesgQv",
        "outputId": "2c3e66f2-7363-4cf8-986c-0abb3a666044",
        "colab": {
          "base_uri": "https://localhost:8080/",
          "height": 265
        }
      },
      "source": [
        "numeric[['striker']].boxplot()\n",
        "plt.show()"
      ],
      "execution_count": null,
      "outputs": [
        {
          "output_type": "display_data",
          "data": {
            "image/png": "[encoded data removed]",
            "text/plain": [
              "<Figure size 432x288 with 1 Axes>"
            ]
          },
          "metadata": {
            "tags": [],
            "needs_background": "light"
          }
        }
      ]
    },
    {
      "cell_type": "code",
      "metadata": {
        "id": "qnKAq-zjsl00",
        "outputId": "f4527673-7057-460e-b589-712c6aee7f5e",
        "colab": {
          "base_uri": "https://localhost:8080/",
          "height": 265
        }
      },
      "source": [
        "std=numeric['striker'].std()\n",
        "mean=numeric['striker'].mean()\n",
        "cut_off=std*3\n",
        "upper,lower=mean+cut_off,mean-cut_off\n",
        "trimmed_df=numeric[(numeric['striker']<upper) \\\n",
        "                   & (numeric['striker']>lower)]\n",
        "trimmed_df[['striker']].boxplot()\n",
        "plt.show()"
      ],
      "execution_count": null,
      "outputs": [
        {
          "output_type": "display_data",
          "data": {
            "image/png": "[encoded data removed]",
            "text/plain": [
              "<Figure size 432x288 with 1 Axes>"
            ]
          },
          "metadata": {
            "tags": [],
            "needs_background": "light"
          }
        }
      ]
    },
    {
      "cell_type": "code",
      "metadata": {
        "id": "1QKTzA2xsrhQ"
      },
      "source": [
        "from sklearn.model_selection import train_test_split\n",
        "x_train,x_test,y_train,y_test=train_test_split(x,y,random_state=42)"
      ],
      "execution_count": null,
      "outputs": []
    },
    {
      "cell_type": "code",
      "metadata": {
        "id": "5McmMiIms_m3"
      },
      "source": [
        "from sklearn.preprocessing import StandardScaler\n",
        "Scalar=StandardScaler()"
      ],
      "execution_count": null,
      "outputs": []
    },
    {
      "cell_type": "code",
      "metadata": {
        "id": "tSKQAP08tCyU"
      },
      "source": [
        "x_train=Scalar.fit_transform(x_train)"
      ],
      "execution_count": null,
      "outputs": []
    },
    {
      "cell_type": "code",
      "metadata": {
        "id": "VY0VAP3MtFCF"
      },
      "source": [
        "x_test=Scalar.transform(x_test)"
      ],
      "execution_count": null,
      "outputs": []
    },
    {
      "cell_type": "code",
      "metadata": {
        "id": "B47NtxcwtH2_"
      },
      "source": [],
      "execution_count": null,
      "outputs": []
    },
    {
      "cell_type": "markdown",
      "metadata": {
        "id": "Q3raRHU2tPjp"
      },
      "source": [
        "Build a model on the \"total\" column,using a DecisionTreeRegressor"
      ]
    },
    {
      "cell_type": "code",
      "metadata": {
        "id": "Ke7l45ijtRnE",
        "outputId": "dd503a31-f9a8-482d-eee6-1af1c334e488",
        "colab": {
          "base_uri": "https://localhost:8080/",
          "height": 119
        }
      },
      "source": [
        "from sklearn.tree import DecisionTreeRegressor\n",
        "model=DecisionTreeRegressor()\n",
        "model.fit(x_train,y_train)"
      ],
      "execution_count": null,
      "outputs": [
        {
          "output_type": "execute_result",
          "data": {
            "text/plain": [
              "DecisionTreeRegressor(ccp_alpha=0.0, criterion='mse', max_depth=None,\n",
              "                      max_features=None, max_leaf_nodes=None,\n",
              "                      min_impurity_decrease=0.0, min_impurity_split=None,\n",
              "                      min_samples_leaf=1, min_samples_split=2,\n",
              "                      min_weight_fraction_leaf=0.0, presort='deprecated',\n",
              "                      random_state=None, splitter='best')"
            ]
          },
          "metadata": {
            "tags": []
          },
          "execution_count": 35
        }
      ]
    },
    {
      "cell_type": "code",
      "metadata": {
        "id": "vX25vZfXtU83",
        "outputId": "cf0014c2-bddb-4673-e69f-7ccbe2caeb8b",
        "colab": {
          "base_uri": "https://localhost:8080/",
          "height": 34
        }
      },
      "source": [
        "model.score(x_test,y_test)"
      ],
      "execution_count": null,
      "outputs": [
        {
          "output_type": "execute_result",
          "data": {
            "text/plain": [
              "0.8338518228640519"
            ]
          },
          "metadata": {
            "tags": []
          },
          "execution_count": 36
        }
      ]
    },
    {
      "cell_type": "code",
      "metadata": {
        "id": "9QdHMEsCtZIt",
        "outputId": "3a3db3a4-a160-4cef-82bb-2e6cdd46dcb3",
        "colab": {
          "base_uri": "https://localhost:8080/",
          "height": 34
        }
      },
      "source": [
        "model.score(x_train,y_train)"
      ],
      "execution_count": null,
      "outputs": [
        {
          "output_type": "execute_result",
          "data": {
            "text/plain": [
              "0.999481969781703"
            ]
          },
          "metadata": {
            "tags": []
          },
          "execution_count": 37
        }
      ]
    },
    {
      "cell_type": "code",
      "metadata": {
        "id": "TxXscHTgtbKU"
      },
      "source": [],
      "execution_count": null,
      "outputs": []
    },
    {
      "cell_type": "markdown",
      "metadata": {
        "id": "5i2qA2fstg4X"
      },
      "source": [
        "Build a model on the \"total\" column,using a RandomForestRegressor"
      ]
    },
    {
      "cell_type": "code",
      "metadata": {
        "id": "YpXKxDcCthXi"
      },
      "source": [
        "from sklearn.ensemble import RandomForestRegressor\n",
        "forest=RandomForestRegressor()"
      ],
      "execution_count": null,
      "outputs": []
    },
    {
      "cell_type": "code",
      "metadata": {
        "id": "byJV-5rptjs7",
        "outputId": "f6cd7949-d4d0-421a-b3bf-b7ff60a5639c",
        "colab": {
          "base_uri": "https://localhost:8080/",
          "height": 136
        }
      },
      "source": [
        "forest.fit(x_train,y_train)"
      ],
      "execution_count": null,
      "outputs": [
        {
          "output_type": "execute_result",
          "data": {
            "text/plain": [
              "RandomForestRegressor(bootstrap=True, ccp_alpha=0.0, criterion='mse',\n",
              "                      max_depth=None, max_features='auto', max_leaf_nodes=None,\n",
              "                      max_samples=None, min_impurity_decrease=0.0,\n",
              "                      min_impurity_split=None, min_samples_leaf=1,\n",
              "                      min_samples_split=2, min_weight_fraction_leaf=0.0,\n",
              "                      n_estimators=100, n_jobs=None, oob_score=False,\n",
              "                      random_state=None, verbose=0, warm_start=False)"
            ]
          },
          "metadata": {
            "tags": []
          },
          "execution_count": 39
        }
      ]
    },
    {
      "cell_type": "code",
      "metadata": {
        "id": "_P4H_kVZtl8x",
        "outputId": "4983412a-bf3a-4594-b92d-4d41105b8957",
        "colab": {
          "base_uri": "https://localhost:8080/",
          "height": 34
        }
      },
      "source": [
        "forest.score(x_test,y_test)"
      ],
      "execution_count": null,
      "outputs": [
        {
          "output_type": "execute_result",
          "data": {
            "text/plain": [
              "0.921778065671522"
            ]
          },
          "metadata": {
            "tags": []
          },
          "execution_count": 40
        }
      ]
    },
    {
      "cell_type": "code",
      "metadata": {
        "id": "hCdlBPBWu2jn",
        "outputId": "193f450f-f266-4bfd-d8a2-3cd5ee39c159",
        "colab": {
          "base_uri": "https://localhost:8080/",
          "height": 34
        }
      },
      "source": [
        "forest.score(x_train,y_train)"
      ],
      "execution_count": null,
      "outputs": [
        {
          "output_type": "execute_result",
          "data": {
            "text/plain": [
              "0.9880216998298483"
            ]
          },
          "metadata": {
            "tags": []
          },
          "execution_count": 41
        }
      ]
    },
    {
      "cell_type": "code",
      "metadata": {
        "id": "UAkFszIxu6EC"
      },
      "source": [
        "PREDICTION ON DATASET"
      ],
      "execution_count": null,
      "outputs": []
    },
    {
      "cell_type": "markdown",
      "metadata": {
        "id": "OjpWUJgQvhf1"
      },
      "source": [
        "PREDICTION ON DATASET"
      ]
    },
    {
      "cell_type": "code",
      "metadata": {
        "id": "wDmg00T1vire"
      },
      "source": [
        "pd.options.display.max_seq_items=775"
      ],
      "execution_count": null,
      "outputs": []
    },
    {
      "cell_type": "code",
      "metadata": {
        "id": "nafskAyHvllL",
        "outputId": "e7c293b1-6b4a-4f85-ff60-730692536d1b",
        "colab": {
          "base_uri": "https://localhost:8080/",
          "height": 1000
        }
      },
      "source": [
        "x.columns"
      ],
      "execution_count": null,
      "outputs": [
        {
          "output_type": "execute_result",
          "data": {
            "text/plain": [
              "Index(['runs', 'wickets', 'overs', 'runs_last_5', 'wickets_last_5', 'striker',\n",
              "       'non-striker', 'bat_team_Chennai Super Kings',\n",
              "       'bat_team_Deccan Chargers', 'bat_team_Delhi Daredevils',\n",
              "       'bat_team_Gujarat Lions', 'bat_team_Kings XI Punjab',\n",
              "       'bat_team_Kochi Tuskers Kerala', 'bat_team_Kolkata Knight Riders',\n",
              "       'bat_team_Mumbai Indians', 'bat_team_Pune Warriors',\n",
              "       'bat_team_Rajasthan Royals', 'bat_team_Rising Pune Supergiant',\n",
              "       'bat_team_Rising Pune Supergiants',\n",
              "       'bat_team_Royal Challengers Bangalore', 'bat_team_Sunrisers Hyderabad',\n",
              "       'bowl_team_Chennai Super Kings', 'bowl_team_Deccan Chargers',\n",
              "       'bowl_team_Delhi Daredevils', 'bowl_team_Gujarat Lions',\n",
              "       'bowl_team_Kings XI Punjab', 'bowl_team_Kochi Tuskers Kerala',\n",
              "       'bowl_team_Kolkata Knight Riders', 'bowl_team_Mumbai Indians',\n",
              "       'bowl_team_Pune Warriors', 'bowl_team_Rajasthan Royals',\n",
              "       'bowl_team_Rising Pune Supergiant', 'bowl_team_Rising Pune Supergiants',\n",
              "       'bowl_team_Royal Challengers Bangalore',\n",
              "       'bowl_team_Sunrisers Hyderabad', 'batsman_A Ashish Reddy',\n",
              "       'batsman_A Chandila', 'batsman_A Chopra', 'batsman_A Choudhary',\n",
              "       'batsman_A Flintoff', 'batsman_A Kumble', 'batsman_A Mishra',\n",
              "       'batsman_A Mithun', 'batsman_A Mukund', 'batsman_A Nehra',\n",
              "       'batsman_A Singh', 'batsman_A Symonds', 'batsman_A Uniyal',\n",
              "       'batsman_AA Bilakhia', 'batsman_AA Chavan', 'batsman_AA Jhunjhunwala',\n",
              "       'batsman_AB Agarkar', 'batsman_AB Dinda', 'batsman_AB McDonald',\n",
              "       'batsman_AB de Villiers', 'batsman_AC Blizzard', 'batsman_AC Gilchrist',\n",
              "       'batsman_AC Thomas', 'batsman_AC Voges', 'batsman_AD Mascarenhas',\n",
              "       'batsman_AD Mathews', 'batsman_AD Nath', 'batsman_AD Russell',\n",
              "       'batsman_AF Milne', 'batsman_AG Murtaza', 'batsman_AG Paunikar',\n",
              "       'batsman_AJ Finch', 'batsman_AJ Tye', 'batsman_AL Menaria',\n",
              "       'batsman_AM Nayar', 'batsman_AM Rahane', 'batsman_AN Ahmed',\n",
              "       'batsman_AN Ghosh', 'batsman_AP Dole', 'batsman_AP Majumdar',\n",
              "       'batsman_AP Tare', 'batsman_AR Bawne', 'batsman_AR Patel',\n",
              "       'batsman_AS Rajpoot', 'batsman_AS Raut', 'batsman_AS Yadav',\n",
              "       'batsman_AT Rayudu', 'batsman_AUK Pathan', 'batsman_Anirudh Singh',\n",
              "       'batsman_Ankit Sharma', 'batsman_Ankit Soni', 'batsman_Anureet Singh',\n",
              "       'batsman_Azhar Mahmood', 'batsman_B Akhil', 'batsman_B Chipli',\n",
              "       'batsman_B Kumar', 'batsman_B Lee', 'batsman_B Sumanth',\n",
              "       'batsman_BA Bhatt', 'batsman_BA Stokes', 'batsman_BAW Mendis',\n",
              "       'batsman_BB McCullum', 'batsman_BB Samantray', 'batsman_BB Sran',\n",
              "       'batsman_BCJ Cutting', 'batsman_BE Hendricks', 'batsman_BJ Haddin',\n",
              "       'batsman_BJ Hodge', 'batsman_BJ Rohrer', 'batsman_BMAJ Mendis',\n",
              "       'batsman_BR Dunk', 'batsman_Basil Thampi', 'batsman_Bipul Sharma',\n",
              "       'batsman_C Madan', 'batsman_C Munro', 'batsman_C de Grandhomme',\n",
              "       'batsman_CA Lynn', 'batsman_CA Pujara', 'batsman_CH Gayle',\n",
              "       'batsman_CH Morris', 'batsman_CJ Anderson', 'batsman_CJ Ferguson',\n",
              "       'batsman_CJ McKay', 'batsman_CK Kapugedera', 'batsman_CL White',\n",
              "       'batsman_CM Gautam', 'batsman_CR Brathwaite', 'batsman_CR Woakes',\n",
              "       'batsman_D Kalyankrishna', 'batsman_D Salunkhe', 'batsman_D Wiese',\n",
              "       'batsman_D du Preez', 'batsman_DA Miller', 'batsman_DA Warner',\n",
              "       'batsman_DB Das', 'batsman_DB Ravi Teja', 'batsman_DE Bollinger',\n",
              "       'batsman_DH Yagnik', 'batsman_DJ Bravo', 'batsman_DJ Harris',\n",
              "       'batsman_DJ Hooda', 'batsman_DJ Hussey', 'batsman_DJ Jacobs',\n",
              "       'batsman_DJ Muthuswami', 'batsman_DJ Thornely', 'batsman_DJG Sammy',\n",
              "       'batsman_DL Vettori', 'batsman_DNT Zoysa', 'batsman_DPMD Jayawardene',\n",
              "       'batsman_DR Martyn', 'batsman_DR Smith', 'batsman_DS Kulkarni',\n",
              "       'batsman_DS Lehmann', 'batsman_DT Christian', 'batsman_DT Patil',\n",
              "       'batsman_DW Steyn', 'batsman_EJG Morgan', 'batsman_ER Dwivedi',\n",
              "       'batsman_F Behardien', 'batsman_F du Plessis', 'batsman_FH Edwards',\n",
              "       'batsman_FY Fazal', 'batsman_G Gambhir', 'batsman_GC Smith',\n",
              "       'batsman_GH Vihari', 'batsman_GJ Bailey', 'batsman_GJ Maxwell',\n",
              "       'batsman_GR Napier', 'batsman_Gurkeerat Singh', 'batsman_HH Gibbs',\n",
              "       'batsman_HH Pandya', 'batsman_HM Amla', 'batsman_HV Patel',\n",
              "       'batsman_Harbhajan Singh', 'batsman_Harmeet Singh',\n",
              "       'batsman_Harpreet Singh', 'batsman_I Malhotra', 'batsman_I Sharma',\n",
              "       'batsman_IK Pathan', 'batsman_IR Jaggi', 'batsman_Imran Tahir',\n",
              "       'batsman_Iqbal Abdulla', 'batsman_Ishan Kishan', 'batsman_J Arunkumar',\n",
              "       'batsman_J Botha', 'batsman_J Suchith', 'batsman_J Theron',\n",
              "       'batsman_J Yadav', 'batsman_JA Morkel', 'batsman_JC Buttler',\n",
              "       'batsman_JD Ryder', 'batsman_JD Unadkat', 'batsman_JDP Oram',\n",
              "       'batsman_JDS Neesham', 'batsman_JE Taylor', 'batsman_JEC Franklin',\n",
              "       'batsman_JH Kallis', 'batsman_JJ Bumrah', 'batsman_JJ Roy',\n",
              "       'batsman_JO Holder', 'batsman_JP Duminy', 'batsman_JP Faulkner',\n",
              "       'batsman_JR Hopes', 'batsman_Jaskaran Singh', 'batsman_Joginder Sharma',\n",
              "       'batsman_K Goel', 'batsman_K Rabada', 'batsman_KA Pollard',\n",
              "       'batsman_KB Arun Karthik', 'batsman_KC Cariappa',\n",
              "       'batsman_KC Sangakkara', 'batsman_KD Karthik', 'batsman_KH Pandya',\n",
              "       'batsman_KJ Abbott', 'batsman_KK Cooper', 'batsman_KK Nair',\n",
              "       'batsman_KL Rahul', 'batsman_KM Jadhav', 'batsman_KP Appanna',\n",
              "       'batsman_KP Pietersen', 'batsman_KS Williamson', 'batsman_KV Sharma',\n",
              "       'batsman_KW Richardson', 'batsman_Kamran Akmal',\n",
              "       'batsman_Kuldeep Yadav', 'batsman_L Balaji', 'batsman_L Ronchi',\n",
              "       'batsman_LA Carseldine', 'batsman_LA Pomersbach', 'batsman_LH Ferguson',\n",
              "       'batsman_LJ Wright', 'batsman_LMP Simmons', 'batsman_LPC Silva',\n",
              "       'batsman_LR Shukla', 'batsman_LRPL Taylor', 'batsman_M Kaif',\n",
              "       'batsman_M Kartik', 'batsman_M Klinger', 'batsman_M Manhas',\n",
              "       'batsman_M Morkel', 'batsman_M Muralitharan', 'batsman_M Ntini',\n",
              "       'batsman_M Rawat', 'batsman_M Vijay', 'batsman_M Vohra',\n",
              "       'batsman_M de Lange', 'batsman_MA Agarwal', 'batsman_MA Khote',\n",
              "       'batsman_MA Starc', 'batsman_MC Henriques', 'batsman_MC Juneja',\n",
              "       'batsman_MD Mishra', 'batsman_MDKJ Perera', 'batsman_MEK Hussey',\n",
              "       'batsman_MF Maharoof', 'batsman_MG Johnson', 'batsman_MJ Clarke',\n",
              "       'batsman_MJ Guptill', 'batsman_MJ Lumb', 'batsman_MJ McClenaghan',\n",
              "       'batsman_MK Pandey', 'batsman_MK Tiwary', 'batsman_ML Hayden',\n",
              "       'batsman_MM Patel', 'batsman_MM Sharma', 'batsman_MN Samuels',\n",
              "       'batsman_MN van Wyk', 'batsman_MP Stoinis', 'batsman_MR Marsh',\n",
              "       'batsman_MS Bisla', 'batsman_MS Dhoni', 'batsman_MS Gony',\n",
              "       'batsman_MS Wade', 'batsman_MV Boucher', 'batsman_Mandeep Singh',\n",
              "       'batsman_Mashrafe Mortaza', 'batsman_Misbah-ul-Haq',\n",
              "       'batsman_Mohammad Ashraful', 'batsman_Mohammad Hafeez',\n",
              "       'batsman_Mohammad Nabi', 'batsman_Mohammed Shami', 'batsman_N Rana',\n",
              "       'batsman_N Saini', 'batsman_ND Doshi', 'batsman_NJ Rimmington',\n",
              "       'batsman_NL McCullum', 'batsman_NLTC Perera', 'batsman_NM Coulter-Nile',\n",
              "       'batsman_NS Naik', 'batsman_NV Ojha', 'batsman_Niraj Patel',\n",
              "       'batsman_OA Shah', 'batsman_P Awana', 'batsman_P Dogra',\n",
              "       'batsman_P Kumar', 'batsman_P Negi', 'batsman_P Parameswaran',\n",
              "       'batsman_P Sahu', 'batsman_PA Patel', 'batsman_PA Reddy',\n",
              "       'batsman_PC Valthaty', 'batsman_PD Collingwood', 'batsman_PJ Cummins',\n",
              "       'batsman_PJ Sangwan', 'batsman_PP Chawla', 'batsman_PP Ojha',\n",
              "       'batsman_PR Shah', 'batsman_PSP Handscomb', 'batsman_PV Tambe',\n",
              "       'batsman_Pankaj Singh', 'batsman_Parvez Rasool', 'batsman_Q de Kock',\n",
              "       'batsman_R Ashwin', 'batsman_R Bhatia', 'batsman_R Bishnoi',\n",
              "       'batsman_R Dhawan', 'batsman_R Dravid', 'batsman_R McLaren',\n",
              "       'batsman_R Rampaul', 'batsman_R Sathish', 'batsman_R Sharma',\n",
              "       'batsman_R Shukla', 'batsman_R Tewatia', 'batsman_R Vinay Kumar',\n",
              "       'batsman_RA Jadeja', 'batsman_RA Tripathi', 'batsman_RD Chahar',\n",
              "       'batsman_RE Levi', 'batsman_RE van der Merwe', 'batsman_RG More',\n",
              "       'batsman_RG Sharma', 'batsman_RJ Harris', 'batsman_RJ Peterson',\n",
              "       'batsman_RJ Quiney', 'batsman_RN ten Doeschate', 'batsman_RP Singh',\n",
              "       'batsman_RR Bhatkal', 'batsman_RR Pant', 'batsman_RR Powar',\n",
              "       'batsman_RR Raje', 'batsman_RR Rossouw', 'batsman_RR Sarwan',\n",
              "       'batsman_RS Bopara', 'batsman_RT Ponting', 'batsman_RV Gomez',\n",
              "       'batsman_RV Uthappa', 'batsman_Rashid Khan', 'batsman_S Anirudha',\n",
              "       'batsman_S Aravind', 'batsman_S Badree', 'batsman_S Badrinath',\n",
              "       'batsman_S Chanderpaul', 'batsman_S Dhawan', 'batsman_S Gopal',\n",
              "       'batsman_S Nadeem', 'batsman_S Narwal', 'batsman_S Rana',\n",
              "       'batsman_S Sohal', 'batsman_S Sreesanth', 'batsman_S Vidyut',\n",
              "       'batsman_SA Abbott', 'batsman_SA Asnodkar', 'batsman_SA Yadav',\n",
              "       'batsman_SB Bangar', 'batsman_SB Jakati', 'batsman_SB Joshi',\n",
              "       'batsman_SB Styris', 'batsman_SB Wagh', 'batsman_SC Ganguly',\n",
              "       'batsman_SD Chitnis', 'batsman_SE Marsh', 'batsman_SJ Srivastava',\n",
              "       'batsman_SK Raina', 'batsman_SK Trivedi', 'batsman_SK Warne',\n",
              "       'batsman_SL Malinga', 'batsman_SM Harwood', 'batsman_SM Katich',\n",
              "       'batsman_SM Pollock', 'batsman_SMSM Senanayake', 'batsman_SN Khan',\n",
              "       'batsman_SN Thakur', 'batsman_SP Fleming', 'batsman_SP Goswami',\n",
              "       'batsman_SP Jackson', 'batsman_SP Narine', 'batsman_SPD Smith',\n",
              "       'batsman_SR Tendulkar', 'batsman_SR Watson', 'batsman_SS Iyer',\n",
              "       'batsman_SS Tiwary', 'batsman_ST Jayasuriya', 'batsman_STR Binny',\n",
              "       'batsman_SV Samson', 'batsman_SW Billings', 'batsman_SW Tait',\n",
              "       'batsman_Sachin Baby', 'batsman_Salman Butt', 'batsman_Sandeep Sharma',\n",
              "       'batsman_Shahid Afridi', 'batsman_Shakib Al Hasan',\n",
              "       'batsman_Shivam Sharma', 'batsman_Shoaib Ahmed',\n",
              "       'batsman_Shoaib Akhtar', 'batsman_Shoaib Malik',\n",
              "       'batsman_Sohail Tanvir', 'batsman_Sunny Singh', 'batsman_Swapnil Singh',\n",
              "       'batsman_T Henderson', 'batsman_T Kohli', 'batsman_T Taibu',\n",
              "       'batsman_T Thushara', 'batsman_TD Paine', 'batsman_TG Southee',\n",
              "       'batsman_TL Suman', 'batsman_TM Dilshan', 'batsman_TM Head',\n",
              "       'batsman_TM Srivastava', 'batsman_TR Birt', 'batsman_TS Mills',\n",
              "       'batsman_UBT Chand', 'batsman_UT Khawaja', 'batsman_UT Yadav',\n",
              "       'batsman_Umar Gul', 'batsman_V Kohli', 'batsman_V Pratap Singh',\n",
              "       'batsman_V Sehwag', 'batsman_V Shankar', 'batsman_VH Zol',\n",
              "       'batsman_VR Aaron', 'batsman_VRV Singh', 'batsman_VS Malik',\n",
              "       'batsman_VVS Laxman', 'batsman_VY Mahesh', 'batsman_Vishnu Vinod',\n",
              "       'batsman_W Jaffer', 'batsman_WA Mota', 'batsman_WD Parnell',\n",
              "       'batsman_WP Saha', 'batsman_WPUJC Vaas', 'batsman_Washington Sundar',\n",
              "       'batsman_X Thalaivan Sargunam', 'batsman_Y Nagar',\n",
              "       'batsman_Y Venugopal Rao', 'batsman_YA Abdulla', 'batsman_YK Pathan',\n",
              "       'batsman_YS Chahal', 'batsman_YV Takawale', 'batsman_Yashpal Singh',\n",
              "       'batsman_Yuvraj Singh', 'batsman_Z Khan', 'bowler_A Ashish Reddy',\n",
              "       'bowler_A Chandila', 'bowler_A Choudhary', 'bowler_A Flintoff',\n",
              "       'bowler_A Kumble', 'bowler_A Mishra', 'bowler_A Mithun',\n",
              "       'bowler_A Nehra', 'bowler_A Singh', 'bowler_A Symonds',\n",
              "       'bowler_A Uniyal', 'bowler_A Zampa', 'bowler_AA Chavan',\n",
              "       'bowler_AA Jhunjhunwala', 'bowler_AA Kazi', 'bowler_AA Noffke',\n",
              "       'bowler_AB Agarkar', 'bowler_AB Dinda', 'bowler_AB McDonald',\n",
              "       'bowler_AC Thomas', 'bowler_AC Voges', 'bowler_AD Mascarenhas',\n",
              "       'bowler_AD Mathews', 'bowler_AD Russell', 'bowler_AF Milne',\n",
              "       'bowler_AG Murtaza', 'bowler_AJ Finch', 'bowler_AJ Tye',\n",
              "       'bowler_AL Menaria', 'bowler_AM Nayar', 'bowler_AM Rahane',\n",
              "       'bowler_AM Salvi', 'bowler_AN Ahmed', 'bowler_AP Dole',\n",
              "       'bowler_AR Patel', 'bowler_AS Rajpoot', 'bowler_AS Raut',\n",
              "       'bowler_AUK Pathan', 'bowler_Abdur Razzak', 'bowler_Anand Rajan',\n",
              "       'bowler_Ankit Sharma', 'bowler_Ankit Soni', 'bowler_Anureet Singh',\n",
              "       'bowler_Azhar Mahmood', 'bowler_B Akhil', 'bowler_B Geeves',\n",
              "       'bowler_B Kumar', 'bowler_B Laughlin', 'bowler_B Lee',\n",
              "       'bowler_BA Bhatt', 'bowler_BA Stokes', 'bowler_BAW Mendis',\n",
              "       'bowler_BB Sran', 'bowler_BCJ Cutting', 'bowler_BE Hendricks',\n",
              "       'bowler_BJ Hodge', 'bowler_BMAJ Mendis', 'bowler_BW Hilfenhaus',\n",
              "       'bowler_Basil Thampi', 'bowler_Bipul Sharma', 'bowler_C Ganapathy',\n",
              "       'bowler_C Munro', 'bowler_C Nanda', 'bowler_C de Grandhomme',\n",
              "       'bowler_CH Gayle', 'bowler_CH Morris', 'bowler_CJ Anderson',\n",
              "       'bowler_CJ Jordan', 'bowler_CJ McKay', 'bowler_CK Kapugedera',\n",
              "       'bowler_CK Langeveldt', 'bowler_CL White', 'bowler_CR Brathwaite',\n",
              "       'bowler_CR Woakes', 'bowler_CRD Fernando', 'bowler_D Kalyankrishna',\n",
              "       'bowler_D Salunkhe', 'bowler_D Wiese', 'bowler_D du Preez',\n",
              "       'bowler_DAJ Bracewell', 'bowler_DB Ravi Teja', 'bowler_DE Bollinger',\n",
              "       'bowler_DJ Bravo', 'bowler_DJ Harris', 'bowler_DJ Hooda',\n",
              "       'bowler_DJ Hussey', 'bowler_DJ Muthuswami', 'bowler_DJ Thornely',\n",
              "       'bowler_DJG Sammy', 'bowler_DL Chahar', 'bowler_DL Vettori',\n",
              "       'bowler_DNT Zoysa', 'bowler_DP Nannes', 'bowler_DP Vijaykumar',\n",
              "       'bowler_DR Smith', 'bowler_DS Kulkarni', 'bowler_DT Christian',\n",
              "       'bowler_DW Steyn', 'bowler_FH Edwards', 'bowler_FY Fazal',\n",
              "       'bowler_GB Hogg', 'bowler_GD McGrath', 'bowler_GH Vihari',\n",
              "       'bowler_GJ Maxwell', 'bowler_GS Sandhu', 'bowler_Gagandeep Singh',\n",
              "       'bowler_Gurkeerat Singh', 'bowler_HH Pandya', 'bowler_HV Patel',\n",
              "       'bowler_Harbhajan Singh', 'bowler_Harmeet Singh', 'bowler_I Sharma',\n",
              "       'bowler_IC Pandey', 'bowler_IK Pathan', 'bowler_Imran Tahir',\n",
              "       'bowler_Iqbal Abdulla', 'bowler_J Botha', 'bowler_J Suchith',\n",
              "       'bowler_J Syed Mohammad', 'bowler_J Theron', 'bowler_J Yadav',\n",
              "       'bowler_JA Morkel', 'bowler_JD Ryder', 'bowler_JD Unadkat',\n",
              "       'bowler_JDP Oram', 'bowler_JDS Neesham', 'bowler_JE Taylor',\n",
              "       'bowler_JEC Franklin', 'bowler_JH Kallis', 'bowler_JJ Bumrah',\n",
              "       'bowler_JJ van der Wath', 'bowler_JM Kemp', 'bowler_JO Holder',\n",
              "       'bowler_JP Duminy', 'bowler_JP Faulkner', 'bowler_JR Hopes',\n",
              "       'bowler_JW Hastings', 'bowler_Jaskaran Singh', 'bowler_Joginder Sharma',\n",
              "       'bowler_K Goel', 'bowler_K Rabada', 'bowler_K Santokie',\n",
              "       'bowler_K Upadhyay', 'bowler_KA Pollard', 'bowler_KAJ Roach',\n",
              "       'bowler_KC Cariappa', 'bowler_KH Pandya', 'bowler_KJ Abbott',\n",
              "       'bowler_KK Cooper', 'bowler_KMDN Kulasekara', 'bowler_KP Appanna',\n",
              "       'bowler_KP Pietersen', 'bowler_KS Williamson', 'bowler_KV Sharma',\n",
              "       'bowler_KW Richardson', 'bowler_Kamran Khan', 'bowler_Karanveer Singh',\n",
              "       'bowler_Kuldeep Yadav', 'bowler_L Ablish', 'bowler_L Balaji',\n",
              "       'bowler_LA Carseldine', 'bowler_LH Ferguson', 'bowler_LJ Wright',\n",
              "       'bowler_LR Shukla', 'bowler_LRPL Taylor', 'bowler_M Ashwin',\n",
              "       'bowler_M Kartik', 'bowler_M Manhas', 'bowler_M Morkel',\n",
              "       'bowler_M Muralitharan', 'bowler_M Ntini', 'bowler_M Vijay',\n",
              "       'bowler_M de Lange', 'bowler_MA Khote', 'bowler_MA Starc',\n",
              "       'bowler_MC Henriques', 'bowler_MF Maharoof', 'bowler_MG Johnson',\n",
              "       'bowler_MG Neser', 'bowler_MJ Clarke', 'bowler_MJ McClenaghan',\n",
              "       'bowler_MK Tiwary', 'bowler_MM Patel', 'bowler_MM Sharma',\n",
              "       'bowler_MN Samuels', 'bowler_MP Stoinis', 'bowler_MR Marsh',\n",
              "       'bowler_MS Gony', 'bowler_Mohammad Asif', 'bowler_Mohammad Hafeez',\n",
              "       'bowler_Mohammad Nabi', 'bowler_Mohammed Shami',\n",
              "       'bowler_Mohammed Siraj', 'bowler_Mustafizur Rahman', 'bowler_NB Singh',\n",
              "       'bowler_ND Doshi', 'bowler_NL McCullum', 'bowler_NLTC Perera',\n",
              "       'bowler_NM Coulter-Nile', 'bowler_P Amarnath', 'bowler_P Awana',\n",
              "       'bowler_P Kumar', 'bowler_P Negi', 'bowler_P Parameswaran',\n",
              "       'bowler_P Prasanth', 'bowler_P Sahu', 'bowler_P Suyal',\n",
              "       'bowler_PC Valthaty', 'bowler_PD Collingwood', 'bowler_PJ Cummins',\n",
              "       'bowler_PJ Sangwan', 'bowler_PM Sarvesh Kumar', 'bowler_PP Chawla',\n",
              "       'bowler_PP Ojha', 'bowler_PV Tambe', 'bowler_Pankaj Singh',\n",
              "       'bowler_Parvez Rasool', 'bowler_R Ashwin', 'bowler_R Bhatia',\n",
              "       'bowler_R Dhawan', 'bowler_R McLaren', 'bowler_R Ninan',\n",
              "       'bowler_R Rampaul', 'bowler_R Sathish', 'bowler_R Sharma',\n",
              "       'bowler_R Shukla', 'bowler_R Tewatia', 'bowler_R Vinay Kumar',\n",
              "       'bowler_RA Jadeja', 'bowler_RE van der Merwe', 'bowler_RG More',\n",
              "       'bowler_RG Sharma', 'bowler_RJ Harris', 'bowler_RJ Peterson',\n",
              "       'bowler_RN ten Doeschate', 'bowler_RP Singh', 'bowler_RR Bose',\n",
              "       'bowler_RR Powar', 'bowler_RR Raje', 'bowler_RS Bopara',\n",
              "       'bowler_RS Gavaskar', 'bowler_RV Gomez', 'bowler_RW Price',\n",
              "       'bowler_Rashid Khan', 'bowler_S Aravind', 'bowler_S Badree',\n",
              "       'bowler_S Dhawan', 'bowler_S Gopal', 'bowler_S Kaul',\n",
              "       'bowler_S Kaushik', 'bowler_S Ladda', 'bowler_S Nadeem',\n",
              "       'bowler_S Narwal', 'bowler_S Rana', 'bowler_S Randiv',\n",
              "       'bowler_S Sreesanth', 'bowler_S Sriram', 'bowler_S Tyagi',\n",
              "       'bowler_SA Abbott', 'bowler_SA Yadav', 'bowler_SB Bangar',\n",
              "       'bowler_SB Jakati', 'bowler_SB Joshi', 'bowler_SB Styris',\n",
              "       'bowler_SB Wagh', 'bowler_SC Ganguly', 'bowler_SD Chitnis',\n",
              "       'bowler_SE Bond', 'bowler_SJ Srivastava', 'bowler_SK Raina',\n",
              "       'bowler_SK Trivedi', 'bowler_SK Warne', 'bowler_SL Malinga',\n",
              "       'bowler_SM Boland', 'bowler_SM Harwood', 'bowler_SM Pollock',\n",
              "       'bowler_SMSM Senanayake', 'bowler_SN Thakur', 'bowler_SP Narine',\n",
              "       'bowler_SR Tendulkar', 'bowler_SR Watson', 'bowler_SS Agarwal',\n",
              "       'bowler_SS Sarkar', 'bowler_ST Jayasuriya', 'bowler_STR Binny',\n",
              "       'bowler_SW Tait', 'bowler_Sandeep Sharma', 'bowler_Shahid Afridi',\n",
              "       'bowler_Shakib Al Hasan', 'bowler_Shivam Sharma', 'bowler_Shoaib Ahmed',\n",
              "       'bowler_Shoaib Malik', 'bowler_Sohail Tanvir', 'bowler_Sunny Gupta',\n",
              "       'bowler_Swapnil Singh', 'bowler_T Henderson', 'bowler_T Natarajan',\n",
              "       'bowler_T Shamsi', 'bowler_T Thushara', 'bowler_TA Boult',\n",
              "       'bowler_TG Southee', 'bowler_TL Suman', 'bowler_TM Dilshan',\n",
              "       'bowler_TM Head', 'bowler_TP Sudhindra', 'bowler_TS Mills',\n",
              "       'bowler_UT Yadav', 'bowler_Umar Gul', 'bowler_V Kohli',\n",
              "       'bowler_V Pratap Singh', 'bowler_V Sehwag', 'bowler_V Shankar',\n",
              "       'bowler_VR Aaron', 'bowler_VRV Singh', 'bowler_VS Malik',\n",
              "       'bowler_VS Yeligati', 'bowler_VY Mahesh', 'bowler_WA Mota',\n",
              "       'bowler_WD Parnell', 'bowler_WPUJC Vaas', 'bowler_Washington Sundar',\n",
              "       'bowler_Y Gnaneswara Rao', 'bowler_Y Nagar', 'bowler_Y Venugopal Rao',\n",
              "       'bowler_YA Abdulla', 'bowler_YK Pathan', 'bowler_YS Chahal',\n",
              "       'bowler_Yuvraj Singh', 'bowler_Z Khan'],\n",
              "      dtype='object')"
            ]
          },
          "metadata": {
            "tags": []
          },
          "execution_count": 51
        }
      ]
    },
    {
      "cell_type": "code",
      "metadata": {
        "id": "QRezstzxxaHm"
      },
      "source": [
        "data=pd.DataFrame({'runs' :[45], 'wickets' :[5],, 'overs', 'runs_last_5', 'wickets_last_5', 'striker',\n",
        "       'non-striker', 'bat_team_Chennai Super Kings',\n",
        "       'bat_team_Deccan Chargers', 'bat_team_Delhi Daredevils',\n",
        "       'bat_team_Gujarat Lions', 'bat_team_Kings XI Punjab',\n",
        "       'bat_team_Kochi Tuskers Kerala', 'bat_team_Kolkata Knight Riders',\n",
        "       'bat_team_Mumbai Indians', 'bat_team_Pune Warriors',\n",
        "       'bat_team_Rajasthan Royals', 'bat_team_Rising Pune Supergiant',\n",
        "       'bat_team_Rising Pune Supergiants',\n",
        "       'bat_team_Royal Challengers Bangalore', 'bat_team_Sunrisers Hyderabad',\n",
        "       'bowl_team_Chennai Super Kings', 'bowl_team_Deccan Chargers',\n",
        "       'bowl_team_Delhi Daredevils', 'bowl_team_Gujarat Lions',\n",
        "       'bowl_team_Kings XI Punjab', 'bowl_team_Kochi Tuskers Kerala',\n",
        "       'bowl_team_Kolkata Knight Riders', 'bowl_team_Mumbai Indians',\n",
        "       'bowl_team_Pune Warriors', 'bowl_team_Rajasthan Royals',\n",
        "       'bowl_team_Rising Pune Supergiant', 'bowl_team_Rising Pune Supergiants',\n",
        "       'bowl_team_Royal Challengers Bangalore',\n",
        "       'bowl_team_Sunrisers Hyderabad', 'batsman_A Ashish Reddy',\n",
        "       'batsman_A Chandila', 'batsman_A Chopra', 'batsman_A Choudhary',\n",
        "       'batsman_A Flintoff', 'batsman_A Kumble', 'batsman_A Mishra',\n",
        "       'batsman_A Mithun', 'batsman_A Mukund', 'batsman_A Nehra',\n",
        "       'batsman_A Singh', 'batsman_A Symonds', 'batsman_A Uniyal',\n",
        "       'batsman_AA Bilakhia', 'batsman_AA Chavan', 'batsman_AA Jhunjhunwala',\n",
        "       'batsman_AB Agarkar', 'batsman_AB Dinda', 'batsman_AB McDonald',\n",
        "       'batsman_AB de Villiers', 'batsman_AC Blizzard', 'batsman_AC Gilchrist',\n",
        "       'batsman_AC Thomas', 'batsman_AC Voges', 'batsman_AD Mascarenhas',\n",
        "       'batsman_AD Mathews', 'batsman_AD Nath', 'batsman_AD Russell',\n",
        "       'batsman_AF Milne', 'batsman_AG Murtaza', 'batsman_AG Paunikar',\n",
        "       'batsman_AJ Finch', 'batsman_AJ Tye', 'batsman_AL Menaria',\n",
        "       'batsman_AM Nayar', 'batsman_AM Rahane', 'batsman_AN Ahmed',\n",
        "       'batsman_AN Ghosh', 'batsman_AP Dole', 'batsman_AP Majumdar',\n",
        "       'batsman_AP Tare', 'batsman_AR Bawne', 'batsman_AR Patel',\n",
        "       'batsman_AS Rajpoot', 'batsman_AS Raut', 'batsman_AS Yadav',\n",
        "       'batsman_AT Rayudu', 'batsman_AUK Pathan', 'batsman_Anirudh Singh',\n",
        "       'batsman_Ankit Sharma', 'batsman_Ankit Soni', 'batsman_Anureet Singh',\n",
        "       'batsman_Azhar Mahmood', 'batsman_B Akhil', 'batsman_B Chipli',\n",
        "       'batsman_B Kumar', 'batsman_B Lee', 'batsman_B Sumanth',\n",
        "       'batsman_BA Bhatt', 'batsman_BA Stokes', 'batsman_BAW Mendis',\n",
        "       'batsman_BB McCullum', 'batsman_BB Samantray', 'batsman_BB Sran',\n",
        "       'batsman_BCJ Cutting', 'batsman_BE Hendricks', 'batsman_BJ Haddin',\n",
        "       'batsman_BJ Hodge', 'batsman_BJ Rohrer', 'batsman_BMAJ Mendis',\n",
        "       'batsman_BR Dunk', 'batsman_Basil Thampi', 'batsman_Bipul Sharma',\n",
        "       'batsman_C Madan', 'batsman_C Munro', 'batsman_C de Grandhomme',\n",
        "       'batsman_CA Lynn', 'batsman_CA Pujara', 'batsman_CH Gayle',\n",
        "       'batsman_CH Morris', 'batsman_CJ Anderson', 'batsman_CJ Ferguson',\n",
        "       'batsman_CJ McKay', 'batsman_CK Kapugedera', 'batsman_CL White',\n",
        "       'batsman_CM Gautam', 'batsman_CR Brathwaite', 'batsman_CR Woakes',\n",
        "       'batsman_D Kalyankrishna', 'batsman_D Salunkhe', 'batsman_D Wiese',\n",
        "       'batsman_D du Preez', 'batsman_DA Miller', 'batsman_DA Warner',\n",
        "       'batsman_DB Das', 'batsman_DB Ravi Teja', 'batsman_DE Bollinger',\n",
        "       'batsman_DH Yagnik', 'batsman_DJ Bravo', 'batsman_DJ Harris',\n",
        "       'batsman_DJ Hooda', 'batsman_DJ Hussey', 'batsman_DJ Jacobs',\n",
        "       'batsman_DJ Muthuswami', 'batsman_DJ Thornely', 'batsman_DJG Sammy',\n",
        "       'batsman_DL Vettori', 'batsman_DNT Zoysa', 'batsman_DPMD Jayawardene',\n",
        "       'batsman_DR Martyn', 'batsman_DR Smith', 'batsman_DS Kulkarni',\n",
        "       'batsman_DS Lehmann', 'batsman_DT Christian', 'batsman_DT Patil',\n",
        "       'batsman_DW Steyn', 'batsman_EJG Morgan', 'batsman_ER Dwivedi',\n",
        "       'batsman_F Behardien', 'batsman_F du Plessis', 'batsman_FH Edwards',\n",
        "       'batsman_FY Fazal', 'batsman_G Gambhir', 'batsman_GC Smith',\n",
        "       'batsman_GH Vihari', 'batsman_GJ Bailey', 'batsman_GJ Maxwell',\n",
        "       'batsman_GR Napier', 'batsman_Gurkeerat Singh', 'batsman_HH Gibbs',\n",
        "       'batsman_HH Pandya', 'batsman_HM Amla', 'batsman_HV Patel',\n",
        "       'batsman_Harbhajan Singh', 'batsman_Harmeet Singh',\n",
        "       'batsman_Harpreet Singh', 'batsman_I Malhotra', 'batsman_I Sharma',\n",
        "       'batsman_IK Pathan', 'batsman_IR Jaggi', 'batsman_Imran Tahir',\n",
        "       'batsman_Iqbal Abdulla', 'batsman_Ishan Kishan', 'batsman_J Arunkumar',\n",
        "       'batsman_J Botha', 'batsman_J Suchith', 'batsman_J Theron',\n",
        "       'batsman_J Yadav', 'batsman_JA Morkel', 'batsman_JC Buttler',\n",
        "       'batsman_JD Ryder', 'batsman_JD Unadkat', 'batsman_JDP Oram',\n",
        "       'batsman_JDS Neesham', 'batsman_JE Taylor', 'batsman_JEC Franklin',\n",
        "       'batsman_JH Kallis', 'batsman_JJ Bumrah', 'batsman_JJ Roy',\n",
        "       'batsman_JO Holder', 'batsman_JP Duminy', 'batsman_JP Faulkner',\n",
        "       'batsman_JR Hopes', 'batsman_Jaskaran Singh', 'batsman_Joginder Sharma',\n",
        "       'batsman_K Goel', 'batsman_K Rabada', 'batsman_KA Pollard',\n",
        "       'batsman_KB Arun Karthik', 'batsman_KC Cariappa',\n",
        "       'batsman_KC Sangakkara', 'batsman_KD Karthik', 'batsman_KH Pandya',\n",
        "       'batsman_KJ Abbott', 'batsman_KK Cooper', 'batsman_KK Nair',\n",
        "       'batsman_KL Rahul', 'batsman_KM Jadhav', 'batsman_KP Appanna',\n",
        "       'batsman_KP Pietersen', 'batsman_KS Williamson', 'batsman_KV Sharma',\n",
        "       'batsman_KW Richardson', 'batsman_Kamran Akmal',\n",
        "       'batsman_Kuldeep Yadav', 'batsman_L Balaji', 'batsman_L Ronchi',\n",
        "       'batsman_LA Carseldine', 'batsman_LA Pomersbach', 'batsman_LH Ferguson',\n",
        "       'batsman_LJ Wright', 'batsman_LMP Simmons', 'batsman_LPC Silva',\n",
        "       'batsman_LR Shukla', 'batsman_LRPL Taylor', 'batsman_M Kaif',\n",
        "       'batsman_M Kartik', 'batsman_M Klinger', 'batsman_M Manhas',\n",
        "       'batsman_M Morkel', 'batsman_M Muralitharan', 'batsman_M Ntini',\n",
        "       'batsman_M Rawat', 'batsman_M Vijay', 'batsman_M Vohra',\n",
        "       'batsman_M de Lange', 'batsman_MA Agarwal', 'batsman_MA Khote',\n",
        "       'batsman_MA Starc', 'batsman_MC Henriques', 'batsman_MC Juneja',\n",
        "       'batsman_MD Mishra', 'batsman_MDKJ Perera', 'batsman_MEK Hussey',\n",
        "       'batsman_MF Maharoof', 'batsman_MG Johnson', 'batsman_MJ Clarke',\n",
        "       'batsman_MJ Guptill', 'batsman_MJ Lumb', 'batsman_MJ McClenaghan',\n",
        "       'batsman_MK Pandey', 'batsman_MK Tiwary', 'batsman_ML Hayden',\n",
        "       'batsman_MM Patel', 'batsman_MM Sharma', 'batsman_MN Samuels',\n",
        "       'batsman_MN van Wyk', 'batsman_MP Stoinis', 'batsman_MR Marsh',\n",
        "       'batsman_MS Bisla', 'batsman_MS Dhoni', 'batsman_MS Gony',\n",
        "       'batsman_MS Wade', 'batsman_MV Boucher', 'batsman_Mandeep Singh',\n",
        "       'batsman_Mashrafe Mortaza', 'batsman_Misbah-ul-Haq',\n",
        "       'batsman_Mohammad Ashraful', 'batsman_Mohammad Hafeez',\n",
        "       'batsman_Mohammad Nabi', 'batsman_Mohammed Shami', 'batsman_N Rana',\n",
        "       'batsman_N Saini', 'batsman_ND Doshi', 'batsman_NJ Rimmington',\n",
        "       'batsman_NL McCullum', 'batsman_NLTC Perera', 'batsman_NM Coulter-Nile',\n",
        "       'batsman_NS Naik', 'batsman_NV Ojha', 'batsman_Niraj Patel',\n",
        "       'batsman_OA Shah', 'batsman_P Awana', 'batsman_P Dogra',\n",
        "       'batsman_P Kumar', 'batsman_P Negi', 'batsman_P Parameswaran',\n",
        "       'batsman_P Sahu', 'batsman_PA Patel', 'batsman_PA Reddy',\n",
        "       'batsman_PC Valthaty', 'batsman_PD Collingwood', 'batsman_PJ Cummins',\n",
        "       'batsman_PJ Sangwan', 'batsman_PP Chawla', 'batsman_PP Ojha',\n",
        "       'batsman_PR Shah', 'batsman_PSP Handscomb', 'batsman_PV Tambe',\n",
        "       'batsman_Pankaj Singh', 'batsman_Parvez Rasool', 'batsman_Q de Kock',\n",
        "       'batsman_R Ashwin', 'batsman_R Bhatia', 'batsman_R Bishnoi',\n",
        "       'batsman_R Dhawan', 'batsman_R Dravid', 'batsman_R McLaren',\n",
        "       'batsman_R Rampaul', 'batsman_R Sathish', 'batsman_R Sharma',\n",
        "       'batsman_R Shukla', 'batsman_R Tewatia', 'batsman_R Vinay Kumar',\n",
        "       'batsman_RA Jadeja', 'batsman_RA Tripathi', 'batsman_RD Chahar',\n",
        "       'batsman_RE Levi', 'batsman_RE van der Merwe', 'batsman_RG More',\n",
        "       'batsman_RG Sharma', 'batsman_RJ Harris', 'batsman_RJ Peterson',\n",
        "       'batsman_RJ Quiney', 'batsman_RN ten Doeschate', 'batsman_RP Singh',\n",
        "       'batsman_RR Bhatkal', 'batsman_RR Pant', 'batsman_RR Powar',\n",
        "       'batsman_RR Raje', 'batsman_RR Rossouw', 'batsman_RR Sarwan',\n",
        "       'batsman_RS Bopara', 'batsman_RT Ponting', 'batsman_RV Gomez',\n",
        "       'batsman_RV Uthappa', 'batsman_Rashid Khan', 'batsman_S Anirudha',\n",
        "       'batsman_S Aravind', 'batsman_S Badree', 'batsman_S Badrinath',\n",
        "       'batsman_S Chanderpaul', 'batsman_S Dhawan', 'batsman_S Gopal',\n",
        "       'batsman_S Nadeem', 'batsman_S Narwal', 'batsman_S Rana',\n",
        "       'batsman_S Sohal', 'batsman_S Sreesanth', 'batsman_S Vidyut',\n",
        "       'batsman_SA Abbott', 'batsman_SA Asnodkar', 'batsman_SA Yadav',\n",
        "       'batsman_SB Bangar', 'batsman_SB Jakati', 'batsman_SB Joshi',\n",
        "       'batsman_SB Styris', 'batsman_SB Wagh', 'batsman_SC Ganguly',\n",
        "       'batsman_SD Chitnis', 'batsman_SE Marsh', 'batsman_SJ Srivastava',\n",
        "       'batsman_SK Raina', 'batsman_SK Trivedi', 'batsman_SK Warne',\n",
        "       'batsman_SL Malinga', 'batsman_SM Harwood', 'batsman_SM Katich',\n",
        "       'batsman_SM Pollock', 'batsman_SMSM Senanayake', 'batsman_SN Khan',\n",
        "       'batsman_SN Thakur', 'batsman_SP Fleming', 'batsman_SP Goswami',\n",
        "       'batsman_SP Jackson', 'batsman_SP Narine', 'batsman_SPD Smith',\n",
        "       'batsman_SR Tendulkar', 'batsman_SR Watson', 'batsman_SS Iyer',\n",
        "       'batsman_SS Tiwary', 'batsman_ST Jayasuriya', 'batsman_STR Binny',\n",
        "       'batsman_SV Samson', 'batsman_SW Billings', 'batsman_SW Tait',\n",
        "       'batsman_Sachin Baby', 'batsman_Salman Butt', 'batsman_Sandeep Sharma',\n",
        "       'batsman_Shahid Afridi', 'batsman_Shakib Al Hasan',\n",
        "       'batsman_Shivam Sharma', 'batsman_Shoaib Ahmed',\n",
        "       'batsman_Shoaib Akhtar', 'batsman_Shoaib Malik',\n",
        "       'batsman_Sohail Tanvir', 'batsman_Sunny Singh', 'batsman_Swapnil Singh',\n",
        "       'batsman_T Henderson', 'batsman_T Kohli', 'batsman_T Taibu',\n",
        "       'batsman_T Thushara', 'batsman_TD Paine', 'batsman_TG Southee',\n",
        "       'batsman_TL Suman', 'batsman_TM Dilshan', 'batsman_TM Head',\n",
        "       'batsman_TM Srivastava', 'batsman_TR Birt', 'batsman_TS Mills',\n",
        "       'batsman_UBT Chand', 'batsman_UT Khawaja', 'batsman_UT Yadav',\n",
        "       'batsman_Umar Gul', 'batsman_V Kohli', 'batsman_V Pratap Singh',\n",
        "       'batsman_V Sehwag', 'batsman_V Shankar', 'batsman_VH Zol',\n",
        "       'batsman_VR Aaron', 'batsman_VRV Singh', 'batsman_VS Malik',\n",
        "       'batsman_VVS Laxman', 'batsman_VY Mahesh', 'batsman_Vishnu Vinod',\n",
        "       'batsman_W Jaffer', 'batsman_WA Mota', 'batsman_WD Parnell',\n",
        "       'batsman_WP Saha', 'batsman_WPUJC Vaas', 'batsman_Washington Sundar',\n",
        "       'batsman_X Thalaivan Sargunam', 'batsman_Y Nagar',\n",
        "       'batsman_Y Venugopal Rao', 'batsman_YA Abdulla', 'batsman_YK Pathan',\n",
        "       'batsman_YS Chahal', 'batsman_YV Takawale', 'batsman_Yashpal Singh',\n",
        "       'batsman_Yuvraj Singh', 'batsman_Z Khan', 'bowler_A Ashish Reddy',\n",
        "       'bowler_A Chandila', 'bowler_A Choudhary', 'bowler_A Flintoff',\n",
        "       'bowler_A Kumble', 'bowler_A Mishra', 'bowler_A Mithun',\n",
        "       'bowler_A Nehra', 'bowler_A Singh', 'bowler_A Symonds',\n",
        "       'bowler_A Uniyal', 'bowler_A Zampa', 'bowler_AA Chavan',\n",
        "       'bowler_AA Jhunjhunwala', 'bowler_AA Kazi', 'bowler_AA Noffke',\n",
        "       'bowler_AB Agarkar', 'bowler_AB Dinda', 'bowler_AB McDonald',\n",
        "       'bowler_AC Thomas', 'bowler_AC Voges', 'bowler_AD Mascarenhas',\n",
        "       'bowler_AD Mathews', 'bowler_AD Russell', 'bowler_AF Milne',\n",
        "       'bowler_AG Murtaza', 'bowler_AJ Finch', 'bowler_AJ Tye',\n",
        "       'bowler_AL Menaria', 'bowler_AM Nayar', 'bowler_AM Rahane',\n",
        "       'bowler_AM Salvi', 'bowler_AN Ahmed', 'bowler_AP Dole',\n",
        "       'bowler_AR Patel', 'bowler_AS Rajpoot', 'bowler_AS Raut',\n",
        "       'bowler_AUK Pathan', 'bowler_Abdur Razzak', 'bowler_Anand Rajan',\n",
        "       'bowler_Ankit Sharma', 'bowler_Ankit Soni', 'bowler_Anureet Singh',\n",
        "       'bowler_Azhar Mahmood', 'bowler_B Akhil', 'bowler_B Geeves',\n",
        "       'bowler_B Kumar', 'bowler_B Laughlin', 'bowler_B Lee',\n",
        "       'bowler_BA Bhatt', 'bowler_BA Stokes', 'bowler_BAW Mendis',\n",
        "       'bowler_BB Sran', 'bowler_BCJ Cutting', 'bowler_BE Hendricks',\n",
        "       'bowler_BJ Hodge', 'bowler_BMAJ Mendis', 'bowler_BW Hilfenhaus',\n",
        "       'bowler_Basil Thampi', 'bowler_Bipul Sharma', 'bowler_C Ganapathy',\n",
        "       'bowler_C Munro', 'bowler_C Nanda', 'bowler_C de Grandhomme',\n",
        "       'bowler_CH Gayle', 'bowler_CH Morris', 'bowler_CJ Anderson',\n",
        "       'bowler_CJ Jordan', 'bowler_CJ McKay', 'bowler_CK Kapugedera',\n",
        "       'bowler_CK Langeveldt', 'bowler_CL White', 'bowler_CR Brathwaite',\n",
        "       'bowler_CR Woakes', 'bowler_CRD Fernando', 'bowler_D Kalyankrishna',\n",
        "       'bowler_D Salunkhe', 'bowler_D Wiese', 'bowler_D du Preez',\n",
        "       'bowler_DAJ Bracewell', 'bowler_DB Ravi Teja', 'bowler_DE Bollinger',\n",
        "       'bowler_DJ Bravo', 'bowler_DJ Harris', 'bowler_DJ Hooda',\n",
        "       'bowler_DJ Hussey', 'bowler_DJ Muthuswami', 'bowler_DJ Thornely',\n",
        "       'bowler_DJG Sammy', 'bowler_DL Chahar', 'bowler_DL Vettori',\n",
        "       'bowler_DNT Zoysa', 'bowler_DP Nannes', 'bowler_DP Vijaykumar',\n",
        "       'bowler_DR Smith', 'bowler_DS Kulkarni', 'bowler_DT Christian',\n",
        "       'bowler_DW Steyn', 'bowler_FH Edwards', 'bowler_FY Fazal',\n",
        "       'bowler_GB Hogg', 'bowler_GD McGrath', 'bowler_GH Vihari',\n",
        "       'bowler_GJ Maxwell', 'bowler_GS Sandhu', 'bowler_Gagandeep Singh',\n",
        "       'bowler_Gurkeerat Singh', 'bowler_HH Pandya', 'bowler_HV Patel',\n",
        "       'bowler_Harbhajan Singh', 'bowler_Harmeet Singh', 'bowler_I Sharma',\n",
        "       'bowler_IC Pandey', 'bowler_IK Pathan', 'bowler_Imran Tahir',\n",
        "       'bowler_Iqbal Abdulla', 'bowler_J Botha', 'bowler_J Suchith',\n",
        "       'bowler_J Syed Mohammad', 'bowler_J Theron', 'bowler_J Yadav',\n",
        "       'bowler_JA Morkel', 'bowler_JD Ryder', 'bowler_JD Unadkat',\n",
        "       'bowler_JDP Oram', 'bowler_JDS Neesham', 'bowler_JE Taylor',\n",
        "       'bowler_JEC Franklin', 'bowler_JH Kallis', 'bowler_JJ Bumrah',\n",
        "       'bowler_JJ van der Wath', 'bowler_JM Kemp', 'bowler_JO Holder',\n",
        "       'bowler_JP Duminy', 'bowler_JP Faulkner', 'bowler_JR Hopes',\n",
        "       'bowler_JW Hastings', 'bowler_Jaskaran Singh', 'bowler_Joginder Sharma',\n",
        "       'bowler_K Goel', 'bowler_K Rabada', 'bowler_K Santokie',\n",
        "       'bowler_K Upadhyay', 'bowler_KA Pollard', 'bowler_KAJ Roach',\n",
        "       'bowler_KC Cariappa', 'bowler_KH Pandya', 'bowler_KJ Abbott',\n",
        "       'bowler_KK Cooper', 'bowler_KMDN Kulasekara', 'bowler_KP Appanna',\n",
        "       'bowler_KP Pietersen', 'bowler_KS Williamson', 'bowler_KV Sharma',\n",
        "       'bowler_KW Richardson', 'bowler_Kamran Khan', 'bowler_Karanveer Singh',\n",
        "       'bowler_Kuldeep Yadav', 'bowler_L Ablish', 'bowler_L Balaji',\n",
        "       'bowler_LA Carseldine', 'bowler_LH Ferguson', 'bowler_LJ Wright',\n",
        "       'bowler_LR Shukla', 'bowler_LRPL Taylor', 'bowler_M Ashwin',\n",
        "       'bowler_M Kartik', 'bowler_M Manhas', 'bowler_M Morkel',\n",
        "       'bowler_M Muralitharan', 'bowler_M Ntini', 'bowler_M Vijay',\n",
        "       'bowler_M de Lange', 'bowler_MA Khote', 'bowler_MA Starc',\n",
        "       'bowler_MC Henriques', 'bowler_MF Maharoof', 'bowler_MG Johnson',\n",
        "       'bowler_MG Neser', 'bowler_MJ Clarke', 'bowler_MJ McClenaghan',\n",
        "       'bowler_MK Tiwary', 'bowler_MM Patel', 'bowler_MM Sharma',\n",
        "       'bowler_MN Samuels', 'bowler_MP Stoinis', 'bowler_MR Marsh',\n",
        "       'bowler_MS Gony', 'bowler_Mohammad Asif', 'bowler_Mohammad Hafeez',\n",
        "       'bowler_Mohammad Nabi', 'bowler_Mohammed Shami',\n",
        "       'bowler_Mohammed Siraj', 'bowler_Mustafizur Rahman', 'bowler_NB Singh',\n",
        "       'bowler_ND Doshi', 'bowler_NL McCullum', 'bowler_NLTC Perera',\n",
        "       'bowler_NM Coulter-Nile', 'bowler_P Amarnath', 'bowler_P Awana',\n",
        "       'bowler_P Kumar', 'bowler_P Negi', 'bowler_P Parameswaran',\n",
        "       'bowler_P Prasanth', 'bowler_P Sahu', 'bowler_P Suyal',\n",
        "       'bowler_PC Valthaty', 'bowler_PD Collingwood', 'bowler_PJ Cummins',\n",
        "       'bowler_PJ Sangwan', 'bowler_PM Sarvesh Kumar', 'bowler_PP Chawla',\n",
        "       'bowler_PP Ojha', 'bowler_PV Tambe', 'bowler_Pankaj Singh',\n",
        "       'bowler_Parvez Rasool', 'bowler_R Ashwin', 'bowler_R Bhatia',\n",
        "       'bowler_R Dhawan', 'bowler_R McLaren', 'bowler_R Ninan',\n",
        "       'bowler_R Rampaul', 'bowler_R Sathish', 'bowler_R Sharma',\n",
        "       'bowler_R Shukla', 'bowler_R Tewatia', 'bowler_R Vinay Kumar',\n",
        "       'bowler_RA Jadeja', 'bowler_RE van der Merwe', 'bowler_RG More',\n",
        "       'bowler_RG Sharma', 'bowler_RJ Harris', 'bowler_RJ Peterson',\n",
        "       'bowler_RN ten Doeschate', 'bowler_RP Singh', 'bowler_RR Bose',\n",
        "       'bowler_RR Powar', 'bowler_RR Raje', 'bowler_RS Bopara',\n",
        "       'bowler_RS Gavaskar', 'bowler_RV Gomez', 'bowler_RW Price',\n",
        "       'bowler_Rashid Khan', 'bowler_S Aravind', 'bowler_S Badree',\n",
        "       'bowler_S Dhawan', 'bowler_S Gopal', 'bowler_S Kaul',\n",
        "       'bowler_S Kaushik', 'bowler_S Ladda', 'bowler_S Nadeem',\n",
        "       'bowler_S Narwal', 'bowler_S Rana', 'bowler_S Randiv',\n",
        "       'bowler_S Sreesanth', 'bowler_S Sriram', 'bowler_S Tyagi',\n",
        "       'bowler_SA Abbott', 'bowler_SA Yadav', 'bowler_SB Bangar',\n",
        "       'bowler_SB Jakati', 'bowler_SB Joshi', 'bowler_SB Styris',\n",
        "       'bowler_SB Wagh', 'bowler_SC Ganguly', 'bowler_SD Chitnis',\n",
        "       'bowler_SE Bond', 'bowler_SJ Srivastava', 'bowler_SK Raina',\n",
        "       'bowler_SK Trivedi', 'bowler_SK Warne', 'bowler_SL Malinga',\n",
        "       'bowler_SM Boland', 'bowler_SM Harwood', 'bowler_SM Pollock',\n",
        "       'bowler_SMSM Senanayake', 'bowler_SN Thakur', 'bowler_SP Narine',\n",
        "       'bowler_SR Tendulkar', 'bowler_SR Watson', 'bowler_SS Agarwal',\n",
        "       'bowler_SS Sarkar', 'bowler_ST Jayasuriya', 'bowler_STR Binny',\n",
        "       'bowler_SW Tait', 'bowler_Sandeep Sharma', 'bowler_Shahid Afridi',\n",
        "       'bowler_Shakib Al Hasan', 'bowler_Shivam Sharma', 'bowler_Shoaib Ahmed',\n",
        "       'bowler_Shoaib Malik', 'bowler_Sohail Tanvir', 'bowler_Sunny Gupta',\n",
        "       'bowler_Swapnil Singh', 'bowler_T Henderson', 'bowler_T Natarajan',\n",
        "       'bowler_T Shamsi', 'bowler_T Thushara', 'bowler_TA Boult',\n",
        "       'bowler_TG Southee', 'bowler_TL Suman', 'bowler_TM Dilshan',\n",
        "       'bowler_TM Head', 'bowler_TP Sudhindra', 'bowler_TS Mills',\n",
        "       'bowler_UT Yadav', 'bowler_Umar Gul', 'bowler_V Kohli',\n",
        "       'bowler_V Pratap Singh', 'bowler_V Sehwag', 'bowler_V Shankar',\n",
        "       'bowler_VR Aaron', 'bowler_VRV Singh', 'bowler_VS Malik',\n",
        "       'bowler_VS Yeligati', 'bowler_VY Mahesh', 'bowler_WA Mota',\n",
        "       'bowler_WD Parnell', 'bowler_WPUJC Vaas', 'bowler_Washington Sundar',\n",
        "       'bowler_Y Gnaneswara Rao', 'bowler_Y Nagar', 'bowler_Y Venugopal Rao',\n",
        "       'bowler_YA Abdulla', 'bowler_YK Pathan', 'bowler_YS Chahal',\n",
        "       'bowler_Yuvraj Singh', 'bowler_Z Khan'],\n",
        "      dtype='object')"
      ],
      "execution_count": null,
      "outputs": []
    },
    {
      "cell_type": "code",
      "metadata": {
        "id": "VqXUI4Yg2Eaf"
      },
      "source": [
        "scaled_data=Scalar.transform(data)\n",
        "forest.predict(scaled_data)"
      ],
      "execution_count": null,
      "outputs": []
    }
  ]
}